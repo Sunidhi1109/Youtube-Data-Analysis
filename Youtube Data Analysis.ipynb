{
 "cells": [
  {
   "attachments": {
    "WhatsApp%20Image%202021-04-08%20at%2011.26.57%20PM.jpeg": {
     "image/jpeg": "[encoded data removed]"
    }
   },
   "cell_type": "markdown",
   "metadata": {},
   "source": [
    "#                                    YOUTUBE DATA ANALYSIS   \n",
    " ![WhatsApp%20Image%202021-04-08%20at%2011.26.57%20PM.jpeg](attachment:WhatsApp%20Image%202021-04-08%20at%2011.26.57%20PM.jpeg)"
   ]
  },
  {
   "cell_type": "markdown",
   "metadata": {},
   "source": [
    "## Understanding The Data"
   ]
  },
  {
   "cell_type": "code",
   "execution_count": 1,
   "metadata": {},
   "outputs": [],
   "source": [
    "import pandas as pd\n",
    "import numpy as np\n",
    "import matplotlib.pyplot as plt\n",
    "import seaborn as sns\n",
    "%matplotlib inline"
   ]
  },
  {
   "cell_type": "code",
   "execution_count": 2,
   "metadata": {},
   "outputs": [],
   "source": [
    "df=pd.read_csv(\"youtube.csv\")"
   ]
  },
  {
   "cell_type": "code",
   "execution_count": 3,
   "metadata": {},
   "outputs": [
    {
     "data": {
      "text/html": [
       "<div>\n",
       "<style scoped>\n",
       "    .dataframe tbody tr th:only-of-type {\n",
       "        vertical-align: middle;\n",
       "    }\n",
       "\n",
       "    .dataframe tbody tr th {\n",
       "        vertical-align: top;\n",
       "    }\n",
       "\n",
       "    .dataframe thead th {\n",
       "        text-align: right;\n",
       "    }\n",
       "</style>\n",
       "<table border=\"1\" class=\"dataframe\">\n",
       "  <thead>\n",
       "    <tr style=\"text-align: right;\">\n",
       "      <th></th>\n",
       "      <th>Video_id</th>\n",
       "      <th>category_id</th>\n",
       "      <th>channel_title</th>\n",
       "      <th>subscriber</th>\n",
       "      <th>title</th>\n",
       "      <th>tags</th>\n",
       "      <th>description</th>\n",
       "      <th>Trend_day_count</th>\n",
       "      <th>Tag_count</th>\n",
       "      <th>Trend_tag_count</th>\n",
       "      <th>comment_count</th>\n",
       "      <th>comment_disabled</th>\n",
       "      <th>like dislike disabled</th>\n",
       "      <th>likes</th>\n",
       "      <th>dislike</th>\n",
       "      <th>tag appered in title</th>\n",
       "      <th>views</th>\n",
       "      <th>Unnamed: 17</th>\n",
       "      <th>Unnamed: 18</th>\n",
       "    </tr>\n",
       "  </thead>\n",
       "  <tbody>\n",
       "    <tr>\n",
       "      <th>0</th>\n",
       "      <td>HDR9SQc79</td>\n",
       "      <td>22</td>\n",
       "      <td>CaseyNeistat</td>\n",
       "      <td>9086142.0</td>\n",
       "      <td>WE WANT TO TALK ABOUT OUR MARRIAGE</td>\n",
       "      <td>SHANtell martin</td>\n",
       "      <td>SHANTELL'S CHANNEL - https://www.youtube.com/s...</td>\n",
       "      <td>6.0</td>\n",
       "      <td>21</td>\n",
       "      <td>6</td>\n",
       "      <td></td>\n",
       "      <td>FALSE</td>\n",
       "      <td>FALSE</td>\n",
       "      <td>13342</td>\n",
       "      <td>6089</td>\n",
       "      <td>False</td>\n",
       "      <td>1978978</td>\n",
       "      <td>NaN</td>\n",
       "      <td>NaN</td>\n",
       "    </tr>\n",
       "    <tr>\n",
       "      <th>1</th>\n",
       "      <td>KNH52UF?48</td>\n",
       "      <td>24</td>\n",
       "      <td>LastWeekTonight</td>\n",
       "      <td>5937292.0</td>\n",
       "      <td>The Trump Presidency: Last Week Tonight with J...</td>\n",
       "      <td>last week tonight trump presidency|last week t...</td>\n",
       "      <td>One year after the presidential election, John...</td>\n",
       "      <td>1.0</td>\n",
       "      <td>23</td>\n",
       "      <td>1</td>\n",
       "      <td>116266</td>\n",
       "      <td>TRUE</td>\n",
       "      <td>FALSE</td>\n",
       "      <td>5761</td>\n",
       "      <td>3044</td>\n",
       "      <td>False</td>\n",
       "      <td>1487870</td>\n",
       "      <td>NaN</td>\n",
       "      <td>NaN</td>\n",
       "    </tr>\n",
       "    <tr>\n",
       "      <th>2</th>\n",
       "      <td>QTW28IRG36</td>\n",
       "      <td>23</td>\n",
       "      <td>Rudy Mancuso</td>\n",
       "      <td>4191209.0</td>\n",
       "      <td>Racist Superman | Rudy Mancuso, King Bach &amp; Le...</td>\n",
       "      <td>racist superman|rudy|mancuso|king|bach|racist|...</td>\n",
       "      <td>WATCH MY PREVIOUS VIDEO ▶ \\n\\nSUBSCRIBE ► http...</td>\n",
       "      <td>10.0</td>\n",
       "      <td>22</td>\n",
       "      <td>3</td>\n",
       "      <td>257850</td>\n",
       "      <td>TRUE</td>\n",
       "      <td>TRUE</td>\n",
       "      <td>0</td>\n",
       "      <td>0</td>\n",
       "      <td>True</td>\n",
       "      <td>1502102</td>\n",
       "      <td>NaN</td>\n",
       "      <td>NaN</td>\n",
       "    </tr>\n",
       "    <tr>\n",
       "      <th>3</th>\n",
       "      <td>MGL76WI]26</td>\n",
       "      <td>24</td>\n",
       "      <td>Good Mythical Morning</td>\n",
       "      <td>13186408.0</td>\n",
       "      <td>Nickelback Lyrics: Real or Fake?</td>\n",
       "      <td>rhett and link|gmm|good mythical morning|rhett...</td>\n",
       "      <td>Today we find out if Link is a Nickelback amat...</td>\n",
       "      <td>12.0</td>\n",
       "      <td>17</td>\n",
       "      <td>5</td>\n",
       "      <td>263939</td>\n",
       "      <td>TRUE</td>\n",
       "      <td>TRUE</td>\n",
       "      <td>0</td>\n",
       "      <td>0</td>\n",
       "      <td>True</td>\n",
       "      <td>3519302</td>\n",
       "      <td>NaN</td>\n",
       "      <td>NaN</td>\n",
       "    </tr>\n",
       "    <tr>\n",
       "      <th>4</th>\n",
       "      <td>TWP93KXT70</td>\n",
       "      <td>24</td>\n",
       "      <td>nigahiga</td>\n",
       "      <td>20563106.0</td>\n",
       "      <td>I Dare You: GOING BALD!?</td>\n",
       "      <td>ryan|higa|higatv|nigahiga|i dare you|idy|rhpc|...</td>\n",
       "      <td>I know it's been a while since we did this sho...</td>\n",
       "      <td>11.0</td>\n",
       "      <td>15</td>\n",
       "      <td>7</td>\n",
       "      <td>268085</td>\n",
       "      <td>TRUE</td>\n",
       "      <td>TRUE</td>\n",
       "      <td>0</td>\n",
       "      <td>0</td>\n",
       "      <td>True</td>\n",
       "      <td>4835374</td>\n",
       "      <td>NaN</td>\n",
       "      <td>NaN</td>\n",
       "    </tr>\n",
       "  </tbody>\n",
       "</table>\n",
       "</div>"
      ],
      "text/plain": [
       "     Video_id category_id          channel_title  subscriber  \\\n",
       "0   HDR9SQc79          22           CaseyNeistat   9086142.0   \n",
       "1  KNH52UF?48          24        LastWeekTonight   5937292.0   \n",
       "2  QTW28IRG36          23           Rudy Mancuso   4191209.0   \n",
       "3  MGL76WI]26          24  Good Mythical Morning  13186408.0   \n",
       "4  TWP93KXT70          24               nigahiga  20563106.0   \n",
       "\n",
       "                                               title  \\\n",
       "0                 WE WANT TO TALK ABOUT OUR MARRIAGE   \n",
       "1  The Trump Presidency: Last Week Tonight with J...   \n",
       "2  Racist Superman | Rudy Mancuso, King Bach & Le...   \n",
       "3                   Nickelback Lyrics: Real or Fake?   \n",
       "4                           I Dare You: GOING BALD!?   \n",
       "\n",
       "                                                tags  \\\n",
       "0                                    SHANtell martin   \n",
       "1  last week tonight trump presidency|last week t...   \n",
       "2  racist superman|rudy|mancuso|king|bach|racist|...   \n",
       "3  rhett and link|gmm|good mythical morning|rhett...   \n",
       "4  ryan|higa|higatv|nigahiga|i dare you|idy|rhpc|...   \n",
       "\n",
       "                                         description  Trend_day_count  \\\n",
       "0  SHANTELL'S CHANNEL - https://www.youtube.com/s...              6.0   \n",
       "1  One year after the presidential election, John...              1.0   \n",
       "2  WATCH MY PREVIOUS VIDEO ▶ \\n\\nSUBSCRIBE ► http...             10.0   \n",
       "3  Today we find out if Link is a Nickelback amat...             12.0   \n",
       "4  I know it's been a while since we did this sho...             11.0   \n",
       "\n",
       "  Tag_count Trend_tag_count comment_count comment_disabled  \\\n",
       "0        21               6                          FALSE   \n",
       "1        23               1        116266             TRUE   \n",
       "2        22               3        257850             TRUE   \n",
       "3        17               5        263939             TRUE   \n",
       "4        15               7        268085             TRUE   \n",
       "\n",
       "  like dislike disabled  likes dislike tag appered in title    views  \\\n",
       "0                 FALSE  13342    6089                False  1978978   \n",
       "1                 FALSE   5761    3044                False  1487870   \n",
       "2                  TRUE      0       0                 True  1502102   \n",
       "3                  TRUE      0       0                 True  3519302   \n",
       "4                  TRUE      0       0                 True  4835374   \n",
       "\n",
       "   Unnamed: 17 Unnamed: 18  \n",
       "0          NaN         NaN  \n",
       "1          NaN         NaN  \n",
       "2          NaN         NaN  \n",
       "3          NaN         NaN  \n",
       "4          NaN         NaN  "
      ]
     },
     "execution_count": 3,
     "metadata": {},
     "output_type": "execute_result"
    }
   ],
   "source": [
    "df.head()"
   ]
  },
  {
   "cell_type": "code",
   "execution_count": 4,
   "metadata": {},
   "outputs": [
    {
     "data": {
      "text/html": [
       "<div>\n",
       "<style scoped>\n",
       "    .dataframe tbody tr th:only-of-type {\n",
       "        vertical-align: middle;\n",
       "    }\n",
       "\n",
       "    .dataframe tbody tr th {\n",
       "        vertical-align: top;\n",
       "    }\n",
       "\n",
       "    .dataframe thead th {\n",
       "        text-align: right;\n",
       "    }\n",
       "</style>\n",
       "<table border=\"1\" class=\"dataframe\">\n",
       "  <thead>\n",
       "    <tr style=\"text-align: right;\">\n",
       "      <th></th>\n",
       "      <th>Video_id</th>\n",
       "      <th>category_id</th>\n",
       "      <th>channel_title</th>\n",
       "      <th>subscriber</th>\n",
       "      <th>title</th>\n",
       "      <th>tags</th>\n",
       "      <th>description</th>\n",
       "      <th>Trend_day_count</th>\n",
       "      <th>Tag_count</th>\n",
       "      <th>Trend_tag_count</th>\n",
       "      <th>comment_count</th>\n",
       "      <th>comment_disabled</th>\n",
       "      <th>like dislike disabled</th>\n",
       "      <th>likes</th>\n",
       "      <th>dislike</th>\n",
       "      <th>tag appered in title</th>\n",
       "      <th>views</th>\n",
       "      <th>Unnamed: 17</th>\n",
       "      <th>Unnamed: 18</th>\n",
       "    </tr>\n",
       "  </thead>\n",
       "  <tbody>\n",
       "    <tr>\n",
       "      <th>923</th>\n",
       "      <td>FSF45AGH29</td>\n",
       "      <td>27</td>\n",
       "      <td>SciShow</td>\n",
       "      <td>4853444.0</td>\n",
       "      <td>How a Sick Chimp Led to a Global Pandemic: The...</td>\n",
       "      <td>SciShow|science|Hank|Green|education|learn|aid...</td>\n",
       "      <td>In the first video in our two part series on H...</td>\n",
       "      <td>7.0</td>\n",
       "      <td>9</td>\n",
       "      <td>4</td>\n",
       "      <td>105576</td>\n",
       "      <td>TRUE</td>\n",
       "      <td>FALSE</td>\n",
       "      <td>12356</td>\n",
       "      <td>5607</td>\n",
       "      <td>False</td>\n",
       "      <td>1352545</td>\n",
       "      <td>NaN</td>\n",
       "      <td>NaN</td>\n",
       "    </tr>\n",
       "    <tr>\n",
       "      <th>3081</th>\n",
       "      <td>ZZO15NOk81</td>\n",
       "      <td>24</td>\n",
       "      <td>Marvel Entertainment</td>\n",
       "      <td>6287032.0</td>\n",
       "      <td>Marvel Studios' Black Panther - Kinetic Energy...</td>\n",
       "      <td>marvel|comics|comic books|nerd|geek|superhero|...</td>\n",
       "      <td>► Subscribe to Marvel: http://bit.ly/WeO3YJ\\n\\...</td>\n",
       "      <td>8.0</td>\n",
       "      <td>21</td>\n",
       "      <td>7</td>\n",
       "      <td>60348</td>\n",
       "      <td>TRUE</td>\n",
       "      <td>FALSE</td>\n",
       "      <td>3967</td>\n",
       "      <td>2566</td>\n",
       "      <td>True</td>\n",
       "      <td>1522454</td>\n",
       "      <td>NaN</td>\n",
       "      <td>NaN</td>\n",
       "    </tr>\n",
       "    <tr>\n",
       "      <th>1940</th>\n",
       "      <td>OJP82JLc5</td>\n",
       "      <td>1</td>\n",
       "      <td>Torm place</td>\n",
       "      <td>84.0</td>\n",
       "      <td>Louis CK dubbed out of Gravity Falls</td>\n",
       "      <td>Louis CK|Gravity Falls|Sexual Assault</td>\n",
       "      <td>After Louis CK was accused of sexual misconduc...</td>\n",
       "      <td>3.0</td>\n",
       "      <td>14</td>\n",
       "      <td>2</td>\n",
       "      <td>225472</td>\n",
       "      <td>TRUE</td>\n",
       "      <td>TRUE</td>\n",
       "      <td>0</td>\n",
       "      <td>0</td>\n",
       "      <td>True</td>\n",
       "      <td>509669</td>\n",
       "      <td>NaN</td>\n",
       "      <td>NaN</td>\n",
       "    </tr>\n",
       "    <tr>\n",
       "      <th>223</th>\n",
       "      <td>VSO58PKX65</td>\n",
       "      <td>24</td>\n",
       "      <td>Access Hollywood</td>\n",
       "      <td>156448.0</td>\n",
       "      <td>Does Gwen Stefani Know If Blake Shelton Is Peo...</td>\n",
       "      <td>access hollywood|blake shelton and gwen stefan...</td>\n",
       "      <td>Access Hollywood sat down with Gwen Stefani in...</td>\n",
       "      <td>9.0</td>\n",
       "      <td>20</td>\n",
       "      <td>2</td>\n",
       "      <td>65444</td>\n",
       "      <td>TRUE</td>\n",
       "      <td>FALSE</td>\n",
       "      <td>8594</td>\n",
       "      <td>3252</td>\n",
       "      <td>True</td>\n",
       "      <td>361832</td>\n",
       "      <td>NaN</td>\n",
       "      <td>NaN</td>\n",
       "    </tr>\n",
       "    <tr>\n",
       "      <th>975</th>\n",
       "      <td>KAG16OGF51</td>\n",
       "      <td>25</td>\n",
       "      <td>Vox</td>\n",
       "      <td>3808198.0</td>\n",
       "      <td>The real reason American health care is so exp...</td>\n",
       "      <td>vox.com|vox|explain|Healthcare|health care|Oba...</td>\n",
       "      <td>Hint: single-payer won’t fix America’s health ...</td>\n",
       "      <td>1.0</td>\n",
       "      <td>21</td>\n",
       "      <td>5</td>\n",
       "      <td>288043</td>\n",
       "      <td>TRUE</td>\n",
       "      <td>FALSE</td>\n",
       "      <td>19169</td>\n",
       "      <td>10119</td>\n",
       "      <td>True</td>\n",
       "      <td>1463890</td>\n",
       "      <td>NaN</td>\n",
       "      <td>NaN</td>\n",
       "    </tr>\n",
       "    <tr>\n",
       "      <th>901</th>\n",
       "      <td>CAN80SXK63</td>\n",
       "      <td>25</td>\n",
       "      <td>ТСН</td>\n",
       "      <td>442641.0</td>\n",
       "      <td>Українська армія звільнила одразу два села на ...</td>\n",
       "      <td>news|новости|ТСН|TSN|АТО|Майское|Гладосово|Све...</td>\n",
       "      <td>UA - Українська армія звільнила одразу два сел...</td>\n",
       "      <td>6.0</td>\n",
       "      <td>25</td>\n",
       "      <td>1</td>\n",
       "      <td>159092</td>\n",
       "      <td>TRUE</td>\n",
       "      <td>TRUE</td>\n",
       "      <td>0</td>\n",
       "      <td>0</td>\n",
       "      <td>False</td>\n",
       "      <td>504478</td>\n",
       "      <td>NaN</td>\n",
       "      <td>NaN</td>\n",
       "    </tr>\n",
       "    <tr>\n",
       "      <th>420</th>\n",
       "      <td>GOP35AWB27</td>\n",
       "      <td>10</td>\n",
       "      <td>MisterWivesVEVO</td>\n",
       "      <td>115796.0</td>\n",
       "      <td>MisterWives - Oh Love</td>\n",
       "      <td>MisterWives|Oh|Love|Photo|Finish|Republic|Reco...</td>\n",
       "      <td>Oh Love (Official Video)\\nTaken from the album...</td>\n",
       "      <td>3.0</td>\n",
       "      <td>9</td>\n",
       "      <td>3</td>\n",
       "      <td></td>\n",
       "      <td>FALSE</td>\n",
       "      <td>TRUE</td>\n",
       "      <td>0</td>\n",
       "      <td>0</td>\n",
       "      <td>True</td>\n",
       "      <td>117624</td>\n",
       "      <td>NaN</td>\n",
       "      <td>NaN</td>\n",
       "    </tr>\n",
       "    <tr>\n",
       "      <th>2117</th>\n",
       "      <td>OER30APp50</td>\n",
       "      <td>27</td>\n",
       "      <td>Kevin Noonan</td>\n",
       "      <td>1634.0</td>\n",
       "      <td>Oh What a Feeling. Toyota! 1982</td>\n",
       "      <td>NaN</td>\n",
       "      <td>NaN</td>\n",
       "      <td>2.0</td>\n",
       "      <td>22</td>\n",
       "      <td>7</td>\n",
       "      <td></td>\n",
       "      <td>FALSE</td>\n",
       "      <td>FALSE</td>\n",
       "      <td>7694</td>\n",
       "      <td>2939</td>\n",
       "      <td>True</td>\n",
       "      <td>72991</td>\n",
       "      <td>NaN</td>\n",
       "      <td>NaN</td>\n",
       "    </tr>\n",
       "    <tr>\n",
       "      <th>2455</th>\n",
       "      <td>RVP94RXD40</td>\n",
       "      <td>24</td>\n",
       "      <td>Natalies Outlet</td>\n",
       "      <td>5799975.0</td>\n",
       "      <td>DIY STUDY HACKS! How To Be PRODUCTIVE After Sc...</td>\n",
       "      <td>natalies outlet|diy|study hacks|how to be prod...</td>\n",
       "      <td>DIY Study Hacks+ study tips on how to be produ...</td>\n",
       "      <td>4.0</td>\n",
       "      <td>13</td>\n",
       "      <td>5</td>\n",
       "      <td></td>\n",
       "      <td>FALSE</td>\n",
       "      <td>FALSE</td>\n",
       "      <td>14781</td>\n",
       "      <td>9738</td>\n",
       "      <td>True</td>\n",
       "      <td>1323615</td>\n",
       "      <td>NaN</td>\n",
       "      <td>NaN</td>\n",
       "    </tr>\n",
       "    <tr>\n",
       "      <th>1887</th>\n",
       "      <td>GOB12VBD55</td>\n",
       "      <td>24</td>\n",
       "      <td>Netflix</td>\n",
       "      <td>3181914.0</td>\n",
       "      <td>Seven Seconds I Teaser [HD] I Netflix</td>\n",
       "      <td>Netflix|Trailer|Netflix Original Series|Netfli...</td>\n",
       "      <td>In a society fraught with racial tension, sens...</td>\n",
       "      <td>1.0</td>\n",
       "      <td>19</td>\n",
       "      <td>5</td>\n",
       "      <td></td>\n",
       "      <td>FALSE</td>\n",
       "      <td>FALSE</td>\n",
       "      <td>15561</td>\n",
       "      <td>8384</td>\n",
       "      <td>True</td>\n",
       "      <td>766412</td>\n",
       "      <td>NaN</td>\n",
       "      <td>NaN</td>\n",
       "    </tr>\n",
       "  </tbody>\n",
       "</table>\n",
       "</div>"
      ],
      "text/plain": [
       "        Video_id category_id         channel_title  subscriber  \\\n",
       "923   FSF45AGH29          27               SciShow   4853444.0   \n",
       "3081  ZZO15NOk81          24  Marvel Entertainment   6287032.0   \n",
       "1940   OJP82JLc5           1            Torm place        84.0   \n",
       "223   VSO58PKX65          24      Access Hollywood    156448.0   \n",
       "975   KAG16OGF51          25                   Vox   3808198.0   \n",
       "901   CAN80SXK63          25                   ТСН    442641.0   \n",
       "420   GOP35AWB27          10       MisterWivesVEVO    115796.0   \n",
       "2117  OER30APp50          27          Kevin Noonan      1634.0   \n",
       "2455  RVP94RXD40          24       Natalies Outlet   5799975.0   \n",
       "1887  GOB12VBD55          24               Netflix   3181914.0   \n",
       "\n",
       "                                                  title  \\\n",
       "923   How a Sick Chimp Led to a Global Pandemic: The...   \n",
       "3081  Marvel Studios' Black Panther - Kinetic Energy...   \n",
       "1940               Louis CK dubbed out of Gravity Falls   \n",
       "223   Does Gwen Stefani Know If Blake Shelton Is Peo...   \n",
       "975   The real reason American health care is so exp...   \n",
       "901   Українська армія звільнила одразу два села на ...   \n",
       "420                               MisterWives - Oh Love   \n",
       "2117                    Oh What a Feeling. Toyota! 1982   \n",
       "2455  DIY STUDY HACKS! How To Be PRODUCTIVE After Sc...   \n",
       "1887              Seven Seconds I Teaser [HD] I Netflix   \n",
       "\n",
       "                                                   tags  \\\n",
       "923   SciShow|science|Hank|Green|education|learn|aid...   \n",
       "3081  marvel|comics|comic books|nerd|geek|superhero|...   \n",
       "1940              Louis CK|Gravity Falls|Sexual Assault   \n",
       "223   access hollywood|blake shelton and gwen stefan...   \n",
       "975   vox.com|vox|explain|Healthcare|health care|Oba...   \n",
       "901   news|новости|ТСН|TSN|АТО|Майское|Гладосово|Све...   \n",
       "420   MisterWives|Oh|Love|Photo|Finish|Republic|Reco...   \n",
       "2117                                                NaN   \n",
       "2455  natalies outlet|diy|study hacks|how to be prod...   \n",
       "1887  Netflix|Trailer|Netflix Original Series|Netfli...   \n",
       "\n",
       "                                            description  Trend_day_count  \\\n",
       "923   In the first video in our two part series on H...              7.0   \n",
       "3081  ► Subscribe to Marvel: http://bit.ly/WeO3YJ\\n\\...              8.0   \n",
       "1940  After Louis CK was accused of sexual misconduc...              3.0   \n",
       "223   Access Hollywood sat down with Gwen Stefani in...              9.0   \n",
       "975   Hint: single-payer won’t fix America’s health ...              1.0   \n",
       "901   UA - Українська армія звільнила одразу два сел...              6.0   \n",
       "420   Oh Love (Official Video)\\nTaken from the album...              3.0   \n",
       "2117                                                NaN              2.0   \n",
       "2455  DIY Study Hacks+ study tips on how to be produ...              4.0   \n",
       "1887  In a society fraught with racial tension, sens...              1.0   \n",
       "\n",
       "     Tag_count Trend_tag_count comment_count comment_disabled  \\\n",
       "923          9               4        105576             TRUE   \n",
       "3081        21               7         60348             TRUE   \n",
       "1940        14               2        225472             TRUE   \n",
       "223         20               2         65444             TRUE   \n",
       "975         21               5        288043             TRUE   \n",
       "901         25               1        159092             TRUE   \n",
       "420          9               3                          FALSE   \n",
       "2117        22               7                          FALSE   \n",
       "2455        13               5                          FALSE   \n",
       "1887        19               5                          FALSE   \n",
       "\n",
       "     like dislike disabled  likes dislike tag appered in title    views  \\\n",
       "923                  FALSE  12356    5607                False  1352545   \n",
       "3081                 FALSE   3967    2566                 True  1522454   \n",
       "1940                  TRUE      0       0                 True   509669   \n",
       "223                  FALSE   8594    3252                 True   361832   \n",
       "975                  FALSE  19169   10119                 True  1463890   \n",
       "901                   TRUE      0       0                False   504478   \n",
       "420                   TRUE      0       0                 True   117624   \n",
       "2117                 FALSE   7694    2939                 True    72991   \n",
       "2455                 FALSE  14781    9738                 True  1323615   \n",
       "1887                 FALSE  15561    8384                 True   766412   \n",
       "\n",
       "      Unnamed: 17 Unnamed: 18  \n",
       "923           NaN         NaN  \n",
       "3081          NaN         NaN  \n",
       "1940          NaN         NaN  \n",
       "223           NaN         NaN  \n",
       "975           NaN         NaN  \n",
       "901           NaN         NaN  \n",
       "420           NaN         NaN  \n",
       "2117          NaN         NaN  \n",
       "2455          NaN         NaN  \n",
       "1887          NaN         NaN  "
      ]
     },
     "execution_count": 4,
     "metadata": {},
     "output_type": "execute_result"
    }
   ],
   "source": [
    "df.sample(10)"
   ]
  },
  {
   "cell_type": "code",
   "execution_count": 5,
   "metadata": {},
   "outputs": [
    {
     "data": {
      "text/html": [
       "<div>\n",
       "<style scoped>\n",
       "    .dataframe tbody tr th:only-of-type {\n",
       "        vertical-align: middle;\n",
       "    }\n",
       "\n",
       "    .dataframe tbody tr th {\n",
       "        vertical-align: top;\n",
       "    }\n",
       "\n",
       "    .dataframe thead th {\n",
       "        text-align: right;\n",
       "    }\n",
       "</style>\n",
       "<table border=\"1\" class=\"dataframe\">\n",
       "  <thead>\n",
       "    <tr style=\"text-align: right;\">\n",
       "      <th></th>\n",
       "      <th>Video_id</th>\n",
       "      <th>category_id</th>\n",
       "      <th>channel_title</th>\n",
       "      <th>subscriber</th>\n",
       "      <th>title</th>\n",
       "      <th>tags</th>\n",
       "      <th>description</th>\n",
       "      <th>Trend_day_count</th>\n",
       "      <th>Tag_count</th>\n",
       "      <th>Trend_tag_count</th>\n",
       "      <th>comment_count</th>\n",
       "      <th>comment_disabled</th>\n",
       "      <th>like dislike disabled</th>\n",
       "      <th>likes</th>\n",
       "      <th>dislike</th>\n",
       "      <th>tag appered in title</th>\n",
       "      <th>views</th>\n",
       "      <th>Unnamed: 17</th>\n",
       "      <th>Unnamed: 18</th>\n",
       "    </tr>\n",
       "  </thead>\n",
       "  <tbody>\n",
       "    <tr>\n",
       "      <th>3193</th>\n",
       "      <td>OKR48DOE67</td>\n",
       "      <td>20</td>\n",
       "      <td>EA SPORTS FIFA</td>\n",
       "      <td>3150213.0</td>\n",
       "      <td>FIFA 18 - FUT Champions Cup Barcelona - Day 1</td>\n",
       "      <td>fifa|fifa ultimate team|fut|fifa pack opening|...</td>\n",
       "      <td>Day 1 of the FUT Champions Cup Barcelona featu...</td>\n",
       "      <td>7.0</td>\n",
       "      <td>20</td>\n",
       "      <td>5</td>\n",
       "      <td></td>\n",
       "      <td>FALSE</td>\n",
       "      <td>FALSE</td>\n",
       "      <td>9734</td>\n",
       "      <td>5912</td>\n",
       "      <td>False</td>\n",
       "      <td>747960</td>\n",
       "      <td>NaN</td>\n",
       "      <td>NaN</td>\n",
       "    </tr>\n",
       "    <tr>\n",
       "      <th>3194</th>\n",
       "      <td>QJK69DS?91</td>\n",
       "      <td>10</td>\n",
       "      <td>JackWhiteVEVO</td>\n",
       "      <td>261596.0</td>\n",
       "      <td>Jack White - Corporation (Audio)</td>\n",
       "      <td>Alternative|Corporation|Jack White|Third Man R...</td>\n",
       "      <td>“Corporation” by Jack White from the forthcomi...</td>\n",
       "      <td>7.0</td>\n",
       "      <td>8</td>\n",
       "      <td>6</td>\n",
       "      <td></td>\n",
       "      <td>FALSE</td>\n",
       "      <td>FALSE</td>\n",
       "      <td>16006</td>\n",
       "      <td>12019</td>\n",
       "      <td>True</td>\n",
       "      <td>200410</td>\n",
       "      <td>NaN</td>\n",
       "      <td>NaN</td>\n",
       "    </tr>\n",
       "    <tr>\n",
       "      <th>3195</th>\n",
       "      <td>VHF51NVr11</td>\n",
       "      <td>10</td>\n",
       "      <td>JamesBlakeVEVO</td>\n",
       "      <td>28321.0</td>\n",
       "      <td>James Blake - If The Car Beside You Moves Ahea...</td>\n",
       "      <td>James|Blake|If|The|Car|Beside|You|Moves|Ahead|...</td>\n",
       "      <td>If the car beside you moves ahead \\nAs much as...</td>\n",
       "      <td>11.0</td>\n",
       "      <td>15</td>\n",
       "      <td>4</td>\n",
       "      <td></td>\n",
       "      <td>FALSE</td>\n",
       "      <td>TRUE</td>\n",
       "      <td>0</td>\n",
       "      <td>0</td>\n",
       "      <td>True</td>\n",
       "      <td>244022</td>\n",
       "      <td>NaN</td>\n",
       "      <td>NaN</td>\n",
       "    </tr>\n",
       "    <tr>\n",
       "      <th>3196</th>\n",
       "      <td>XHU22OAJ39</td>\n",
       "      <td>26</td>\n",
       "      <td>Refinery29</td>\n",
       "      <td>890739.0</td>\n",
       "      <td>Lucie Fink Trains Like A Professional Gymnast ...</td>\n",
       "      <td>refinery29|refinery 29|r29|r29 video|refinery2...</td>\n",
       "      <td>On this episode of Lucie For Hire, our host Lu...</td>\n",
       "      <td>11.0</td>\n",
       "      <td>14</td>\n",
       "      <td>6</td>\n",
       "      <td>250750</td>\n",
       "      <td>TRUE</td>\n",
       "      <td>FALSE</td>\n",
       "      <td>6859</td>\n",
       "      <td>1247</td>\n",
       "      <td>True</td>\n",
       "      <td>907340</td>\n",
       "      <td>NaN</td>\n",
       "      <td>NaN</td>\n",
       "    </tr>\n",
       "    <tr>\n",
       "      <th>3197</th>\n",
       "      <td>IFD79NSG47</td>\n",
       "      <td>22</td>\n",
       "      <td>MN khan</td>\n",
       "      <td>0.0</td>\n",
       "      <td>Man drops magnum of Champagne on the floor in ...</td>\n",
       "      <td>NaN</td>\n",
       "      <td>Man spills magnum of champagne ‘worth £30,000’...</td>\n",
       "      <td>12.0</td>\n",
       "      <td>12</td>\n",
       "      <td>4</td>\n",
       "      <td>32337</td>\n",
       "      <td>TRUE</td>\n",
       "      <td>FALSE</td>\n",
       "      <td>8339</td>\n",
       "      <td>5436</td>\n",
       "      <td>True</td>\n",
       "      <td>465531</td>\n",
       "      <td>NaN</td>\n",
       "      <td>NaN</td>\n",
       "    </tr>\n",
       "  </tbody>\n",
       "</table>\n",
       "</div>"
      ],
      "text/plain": [
       "        Video_id category_id   channel_title  subscriber  \\\n",
       "3193  OKR48DOE67          20  EA SPORTS FIFA   3150213.0   \n",
       "3194  QJK69DS?91          10   JackWhiteVEVO    261596.0   \n",
       "3195  VHF51NVr11          10  JamesBlakeVEVO     28321.0   \n",
       "3196  XHU22OAJ39          26      Refinery29    890739.0   \n",
       "3197  IFD79NSG47          22         MN khan         0.0   \n",
       "\n",
       "                                                  title  \\\n",
       "3193      FIFA 18 - FUT Champions Cup Barcelona - Day 1   \n",
       "3194                   Jack White - Corporation (Audio)   \n",
       "3195  James Blake - If The Car Beside You Moves Ahea...   \n",
       "3196  Lucie Fink Trains Like A Professional Gymnast ...   \n",
       "3197  Man drops magnum of Champagne on the floor in ...   \n",
       "\n",
       "                                                   tags  \\\n",
       "3193  fifa|fifa ultimate team|fut|fifa pack opening|...   \n",
       "3194  Alternative|Corporation|Jack White|Third Man R...   \n",
       "3195  James|Blake|If|The|Car|Beside|You|Moves|Ahead|...   \n",
       "3196  refinery29|refinery 29|r29|r29 video|refinery2...   \n",
       "3197                                                NaN   \n",
       "\n",
       "                                            description  Trend_day_count  \\\n",
       "3193  Day 1 of the FUT Champions Cup Barcelona featu...              7.0   \n",
       "3194  “Corporation” by Jack White from the forthcomi...              7.0   \n",
       "3195  If the car beside you moves ahead \\nAs much as...             11.0   \n",
       "3196  On this episode of Lucie For Hire, our host Lu...             11.0   \n",
       "3197  Man spills magnum of champagne ‘worth £30,000’...             12.0   \n",
       "\n",
       "     Tag_count Trend_tag_count comment_count comment_disabled  \\\n",
       "3193        20               5                          FALSE   \n",
       "3194         8               6                          FALSE   \n",
       "3195        15               4                          FALSE   \n",
       "3196        14               6        250750             TRUE   \n",
       "3197        12               4         32337             TRUE   \n",
       "\n",
       "     like dislike disabled  likes dislike tag appered in title   views  \\\n",
       "3193                 FALSE   9734    5912                False  747960   \n",
       "3194                 FALSE  16006   12019                 True  200410   \n",
       "3195                  TRUE      0       0                 True  244022   \n",
       "3196                 FALSE   6859    1247                 True  907340   \n",
       "3197                 FALSE   8339    5436                 True  465531   \n",
       "\n",
       "      Unnamed: 17 Unnamed: 18  \n",
       "3193          NaN         NaN  \n",
       "3194          NaN         NaN  \n",
       "3195          NaN         NaN  \n",
       "3196          NaN         NaN  \n",
       "3197          NaN         NaN  "
      ]
     },
     "execution_count": 5,
     "metadata": {},
     "output_type": "execute_result"
    }
   ],
   "source": [
    "df.tail()"
   ]
  },
  {
   "cell_type": "code",
   "execution_count": 6,
   "metadata": {},
   "outputs": [
    {
     "data": {
      "text/plain": [
       "(3198, 19)"
      ]
     },
     "execution_count": 6,
     "metadata": {},
     "output_type": "execute_result"
    }
   ],
   "source": [
    "df.shape"
   ]
  },
  {
   "cell_type": "code",
   "execution_count": 7,
   "metadata": {},
   "outputs": [
    {
     "data": {
      "text/plain": [
       "Index(['Video_id', 'category_id', 'channel_title', 'subscriber', 'title',\n",
       "       'tags', 'description', 'Trend_day_count', 'Tag_count',\n",
       "       'Trend_tag_count', 'comment_count', 'comment_disabled',\n",
       "       'like dislike disabled', 'likes', 'dislike', 'tag appered in title',\n",
       "       'views', 'Unnamed: 17', 'Unnamed: 18'],\n",
       "      dtype='object')"
      ]
     },
     "execution_count": 7,
     "metadata": {},
     "output_type": "execute_result"
    }
   ],
   "source": [
    "df.columns"
   ]
  },
  {
   "cell_type": "code",
   "execution_count": 8,
   "metadata": {},
   "outputs": [
    {
     "data": {
      "text/plain": [
       "array(['22', '24', '23', '28', '1', '25', '17', '10', '15', '27', '26',\n",
       "       '2', '19', '20', nan, '29', '“24', '43'], dtype=object)"
      ]
     },
     "execution_count": 8,
     "metadata": {},
     "output_type": "execute_result"
    }
   ],
   "source": [
    "df.category_id.unique()"
   ]
  },
  {
   "cell_type": "code",
   "execution_count": 9,
   "metadata": {},
   "outputs": [
    {
     "data": {
      "text/plain": [
       "<matplotlib.axes._subplots.AxesSubplot at 0x1f5e9ad4c40>"
      ]
     },
     "execution_count": 9,
     "metadata": {},
     "output_type": "execute_result"
    },
    {
     "data": {
      "image/png": "[encoded data removed]",
      "text/plain": [
       "<Figure size 432x288 with 2 Axes>"
      ]
     },
     "metadata": {
      "needs_background": "light"
     },
     "output_type": "display_data"
    }
   ],
   "source": [
    "#Visualization of null values\n",
    "sns.heatmap(df.isnull(),yticklabels=False,cmap='viridis')"
   ]
  },
  {
   "cell_type": "code",
   "execution_count": 10,
   "metadata": {},
   "outputs": [
    {
     "data": {
      "text/html": [
       "<div>\n",
       "<style scoped>\n",
       "    .dataframe tbody tr th:only-of-type {\n",
       "        vertical-align: middle;\n",
       "    }\n",
       "\n",
       "    .dataframe tbody tr th {\n",
       "        vertical-align: top;\n",
       "    }\n",
       "\n",
       "    .dataframe thead th {\n",
       "        text-align: right;\n",
       "    }\n",
       "</style>\n",
       "<table border=\"1\" class=\"dataframe\">\n",
       "  <thead>\n",
       "    <tr style=\"text-align: right;\">\n",
       "      <th></th>\n",
       "      <th>subscriber</th>\n",
       "      <th>Trend_day_count</th>\n",
       "      <th>Unnamed: 17</th>\n",
       "    </tr>\n",
       "  </thead>\n",
       "  <tbody>\n",
       "    <tr>\n",
       "      <th>count</th>\n",
       "      <td>3.175000e+03</td>\n",
       "      <td>3197.000000</td>\n",
       "      <td>1.0</td>\n",
       "    </tr>\n",
       "    <tr>\n",
       "      <th>mean</th>\n",
       "      <td>3.823981e+06</td>\n",
       "      <td>7.964342</td>\n",
       "      <td>2544.0</td>\n",
       "    </tr>\n",
       "    <tr>\n",
       "      <th>std</th>\n",
       "      <td>2.865771e+07</td>\n",
       "      <td>78.556055</td>\n",
       "      <td>NaN</td>\n",
       "    </tr>\n",
       "    <tr>\n",
       "      <th>min</th>\n",
       "      <td>0.000000e+00</td>\n",
       "      <td>0.000000</td>\n",
       "      <td>2544.0</td>\n",
       "    </tr>\n",
       "    <tr>\n",
       "      <th>25%</th>\n",
       "      <td>2.428800e+05</td>\n",
       "      <td>4.000000</td>\n",
       "      <td>2544.0</td>\n",
       "    </tr>\n",
       "    <tr>\n",
       "      <th>50%</th>\n",
       "      <td>1.241220e+06</td>\n",
       "      <td>7.000000</td>\n",
       "      <td>2544.0</td>\n",
       "    </tr>\n",
       "    <tr>\n",
       "      <th>75%</th>\n",
       "      <td>3.812622e+06</td>\n",
       "      <td>10.000000</td>\n",
       "      <td>2544.0</td>\n",
       "    </tr>\n",
       "    <tr>\n",
       "      <th>max</th>\n",
       "      <td>1.576229e+09</td>\n",
       "      <td>4444.000000</td>\n",
       "      <td>2544.0</td>\n",
       "    </tr>\n",
       "  </tbody>\n",
       "</table>\n",
       "</div>"
      ],
      "text/plain": [
       "         subscriber  Trend_day_count  Unnamed: 17\n",
       "count  3.175000e+03      3197.000000          1.0\n",
       "mean   3.823981e+06         7.964342       2544.0\n",
       "std    2.865771e+07        78.556055          NaN\n",
       "min    0.000000e+00         0.000000       2544.0\n",
       "25%    2.428800e+05         4.000000       2544.0\n",
       "50%    1.241220e+06         7.000000       2544.0\n",
       "75%    3.812622e+06        10.000000       2544.0\n",
       "max    1.576229e+09      4444.000000       2544.0"
      ]
     },
     "execution_count": 10,
     "metadata": {},
     "output_type": "execute_result"
    }
   ],
   "source": [
    "df.describe()"
   ]
  },
  {
   "cell_type": "code",
   "execution_count": 11,
   "metadata": {},
   "outputs": [
    {
     "name": "stdout",
     "output_type": "stream",
     "text": [
      "<class 'pandas.core.frame.DataFrame'>\n",
      "RangeIndex: 3198 entries, 0 to 3197\n",
      "Data columns (total 19 columns):\n",
      " #   Column                 Non-Null Count  Dtype  \n",
      "---  ------                 --------------  -----  \n",
      " 0   Video_id               3198 non-null   object \n",
      " 1   category_id            3192 non-null   object \n",
      " 2   channel_title          3195 non-null   object \n",
      " 3   subscriber             3175 non-null   float64\n",
      " 4   title                  3195 non-null   object \n",
      " 5   tags                   3046 non-null   object \n",
      " 6   description            3133 non-null   object \n",
      " 7   Trend_day_count        3197 non-null   float64\n",
      " 8   Tag_count              3197 non-null   object \n",
      " 9   Trend_tag_count        3197 non-null   object \n",
      " 10  comment_count          3198 non-null   object \n",
      " 11  comment_disabled       3198 non-null   object \n",
      " 12  like dislike disabled  3198 non-null   object \n",
      " 13  likes                  3198 non-null   object \n",
      " 14  dislike                3198 non-null   object \n",
      " 15  tag appered in title   3197 non-null   object \n",
      " 16  views                  3198 non-null   object \n",
      " 17  Unnamed: 17            1 non-null      float64\n",
      " 18  Unnamed: 18            1 non-null      object \n",
      "dtypes: float64(3), object(16)\n",
      "memory usage: 474.8+ KB\n"
     ]
    }
   ],
   "source": [
    "df.info()"
   ]
  },
  {
   "cell_type": "markdown",
   "metadata": {},
   "source": [
    "# Cleaning The Data"
   ]
  },
  {
   "cell_type": "code",
   "execution_count": 12,
   "metadata": {},
   "outputs": [],
   "source": [
    "df.drop(['Unnamed: 17', 'Unnamed: 18'],axis=1,inplace=True)"
   ]
  },
  {
   "cell_type": "code",
   "execution_count": 13,
   "metadata": {},
   "outputs": [
    {
     "data": {
      "text/html": [
       "<div>\n",
       "<style scoped>\n",
       "    .dataframe tbody tr th:only-of-type {\n",
       "        vertical-align: middle;\n",
       "    }\n",
       "\n",
       "    .dataframe tbody tr th {\n",
       "        vertical-align: top;\n",
       "    }\n",
       "\n",
       "    .dataframe thead th {\n",
       "        text-align: right;\n",
       "    }\n",
       "</style>\n",
       "<table border=\"1\" class=\"dataframe\">\n",
       "  <thead>\n",
       "    <tr style=\"text-align: right;\">\n",
       "      <th></th>\n",
       "      <th>Video_id</th>\n",
       "      <th>category_id</th>\n",
       "      <th>channel_title</th>\n",
       "      <th>subscriber</th>\n",
       "      <th>title</th>\n",
       "      <th>tags</th>\n",
       "      <th>description</th>\n",
       "      <th>Trend_day_count</th>\n",
       "      <th>Tag_count</th>\n",
       "      <th>Trend_tag_count</th>\n",
       "      <th>comment_count</th>\n",
       "      <th>comment_disabled</th>\n",
       "      <th>like dislike disabled</th>\n",
       "      <th>likes</th>\n",
       "      <th>dislike</th>\n",
       "      <th>tag appered in title</th>\n",
       "      <th>views</th>\n",
       "    </tr>\n",
       "  </thead>\n",
       "  <tbody>\n",
       "    <tr>\n",
       "      <th>0</th>\n",
       "      <td>HDR9SQc79</td>\n",
       "      <td>22</td>\n",
       "      <td>CaseyNeistat</td>\n",
       "      <td>9086142.0</td>\n",
       "      <td>WE WANT TO TALK ABOUT OUR MARRIAGE</td>\n",
       "      <td>SHANtell martin</td>\n",
       "      <td>SHANTELL'S CHANNEL - https://www.youtube.com/s...</td>\n",
       "      <td>6.0</td>\n",
       "      <td>21</td>\n",
       "      <td>6</td>\n",
       "      <td></td>\n",
       "      <td>FALSE</td>\n",
       "      <td>FALSE</td>\n",
       "      <td>13342</td>\n",
       "      <td>6089</td>\n",
       "      <td>False</td>\n",
       "      <td>1978978</td>\n",
       "    </tr>\n",
       "    <tr>\n",
       "      <th>1</th>\n",
       "      <td>KNH52UF?48</td>\n",
       "      <td>24</td>\n",
       "      <td>LastWeekTonight</td>\n",
       "      <td>5937292.0</td>\n",
       "      <td>The Trump Presidency: Last Week Tonight with J...</td>\n",
       "      <td>last week tonight trump presidency|last week t...</td>\n",
       "      <td>One year after the presidential election, John...</td>\n",
       "      <td>1.0</td>\n",
       "      <td>23</td>\n",
       "      <td>1</td>\n",
       "      <td>116266</td>\n",
       "      <td>TRUE</td>\n",
       "      <td>FALSE</td>\n",
       "      <td>5761</td>\n",
       "      <td>3044</td>\n",
       "      <td>False</td>\n",
       "      <td>1487870</td>\n",
       "    </tr>\n",
       "    <tr>\n",
       "      <th>2</th>\n",
       "      <td>QTW28IRG36</td>\n",
       "      <td>23</td>\n",
       "      <td>Rudy Mancuso</td>\n",
       "      <td>4191209.0</td>\n",
       "      <td>Racist Superman | Rudy Mancuso, King Bach &amp; Le...</td>\n",
       "      <td>racist superman|rudy|mancuso|king|bach|racist|...</td>\n",
       "      <td>WATCH MY PREVIOUS VIDEO ▶ \\n\\nSUBSCRIBE ► http...</td>\n",
       "      <td>10.0</td>\n",
       "      <td>22</td>\n",
       "      <td>3</td>\n",
       "      <td>257850</td>\n",
       "      <td>TRUE</td>\n",
       "      <td>TRUE</td>\n",
       "      <td>0</td>\n",
       "      <td>0</td>\n",
       "      <td>True</td>\n",
       "      <td>1502102</td>\n",
       "    </tr>\n",
       "    <tr>\n",
       "      <th>3</th>\n",
       "      <td>MGL76WI]26</td>\n",
       "      <td>24</td>\n",
       "      <td>Good Mythical Morning</td>\n",
       "      <td>13186408.0</td>\n",
       "      <td>Nickelback Lyrics: Real or Fake?</td>\n",
       "      <td>rhett and link|gmm|good mythical morning|rhett...</td>\n",
       "      <td>Today we find out if Link is a Nickelback amat...</td>\n",
       "      <td>12.0</td>\n",
       "      <td>17</td>\n",
       "      <td>5</td>\n",
       "      <td>263939</td>\n",
       "      <td>TRUE</td>\n",
       "      <td>TRUE</td>\n",
       "      <td>0</td>\n",
       "      <td>0</td>\n",
       "      <td>True</td>\n",
       "      <td>3519302</td>\n",
       "    </tr>\n",
       "    <tr>\n",
       "      <th>4</th>\n",
       "      <td>TWP93KXT70</td>\n",
       "      <td>24</td>\n",
       "      <td>nigahiga</td>\n",
       "      <td>20563106.0</td>\n",
       "      <td>I Dare You: GOING BALD!?</td>\n",
       "      <td>ryan|higa|higatv|nigahiga|i dare you|idy|rhpc|...</td>\n",
       "      <td>I know it's been a while since we did this sho...</td>\n",
       "      <td>11.0</td>\n",
       "      <td>15</td>\n",
       "      <td>7</td>\n",
       "      <td>268085</td>\n",
       "      <td>TRUE</td>\n",
       "      <td>TRUE</td>\n",
       "      <td>0</td>\n",
       "      <td>0</td>\n",
       "      <td>True</td>\n",
       "      <td>4835374</td>\n",
       "    </tr>\n",
       "    <tr>\n",
       "      <th>...</th>\n",
       "      <td>...</td>\n",
       "      <td>...</td>\n",
       "      <td>...</td>\n",
       "      <td>...</td>\n",
       "      <td>...</td>\n",
       "      <td>...</td>\n",
       "      <td>...</td>\n",
       "      <td>...</td>\n",
       "      <td>...</td>\n",
       "      <td>...</td>\n",
       "      <td>...</td>\n",
       "      <td>...</td>\n",
       "      <td>...</td>\n",
       "      <td>...</td>\n",
       "      <td>...</td>\n",
       "      <td>...</td>\n",
       "      <td>...</td>\n",
       "    </tr>\n",
       "    <tr>\n",
       "      <th>3193</th>\n",
       "      <td>OKR48DOE67</td>\n",
       "      <td>20</td>\n",
       "      <td>EA SPORTS FIFA</td>\n",
       "      <td>3150213.0</td>\n",
       "      <td>FIFA 18 - FUT Champions Cup Barcelona - Day 1</td>\n",
       "      <td>fifa|fifa ultimate team|fut|fifa pack opening|...</td>\n",
       "      <td>Day 1 of the FUT Champions Cup Barcelona featu...</td>\n",
       "      <td>7.0</td>\n",
       "      <td>20</td>\n",
       "      <td>5</td>\n",
       "      <td></td>\n",
       "      <td>FALSE</td>\n",
       "      <td>FALSE</td>\n",
       "      <td>9734</td>\n",
       "      <td>5912</td>\n",
       "      <td>False</td>\n",
       "      <td>747960</td>\n",
       "    </tr>\n",
       "    <tr>\n",
       "      <th>3194</th>\n",
       "      <td>QJK69DS?91</td>\n",
       "      <td>10</td>\n",
       "      <td>JackWhiteVEVO</td>\n",
       "      <td>261596.0</td>\n",
       "      <td>Jack White - Corporation (Audio)</td>\n",
       "      <td>Alternative|Corporation|Jack White|Third Man R...</td>\n",
       "      <td>“Corporation” by Jack White from the forthcomi...</td>\n",
       "      <td>7.0</td>\n",
       "      <td>8</td>\n",
       "      <td>6</td>\n",
       "      <td></td>\n",
       "      <td>FALSE</td>\n",
       "      <td>FALSE</td>\n",
       "      <td>16006</td>\n",
       "      <td>12019</td>\n",
       "      <td>True</td>\n",
       "      <td>200410</td>\n",
       "    </tr>\n",
       "    <tr>\n",
       "      <th>3195</th>\n",
       "      <td>VHF51NVr11</td>\n",
       "      <td>10</td>\n",
       "      <td>JamesBlakeVEVO</td>\n",
       "      <td>28321.0</td>\n",
       "      <td>James Blake - If The Car Beside You Moves Ahea...</td>\n",
       "      <td>James|Blake|If|The|Car|Beside|You|Moves|Ahead|...</td>\n",
       "      <td>If the car beside you moves ahead \\nAs much as...</td>\n",
       "      <td>11.0</td>\n",
       "      <td>15</td>\n",
       "      <td>4</td>\n",
       "      <td></td>\n",
       "      <td>FALSE</td>\n",
       "      <td>TRUE</td>\n",
       "      <td>0</td>\n",
       "      <td>0</td>\n",
       "      <td>True</td>\n",
       "      <td>244022</td>\n",
       "    </tr>\n",
       "    <tr>\n",
       "      <th>3196</th>\n",
       "      <td>XHU22OAJ39</td>\n",
       "      <td>26</td>\n",
       "      <td>Refinery29</td>\n",
       "      <td>890739.0</td>\n",
       "      <td>Lucie Fink Trains Like A Professional Gymnast ...</td>\n",
       "      <td>refinery29|refinery 29|r29|r29 video|refinery2...</td>\n",
       "      <td>On this episode of Lucie For Hire, our host Lu...</td>\n",
       "      <td>11.0</td>\n",
       "      <td>14</td>\n",
       "      <td>6</td>\n",
       "      <td>250750</td>\n",
       "      <td>TRUE</td>\n",
       "      <td>FALSE</td>\n",
       "      <td>6859</td>\n",
       "      <td>1247</td>\n",
       "      <td>True</td>\n",
       "      <td>907340</td>\n",
       "    </tr>\n",
       "    <tr>\n",
       "      <th>3197</th>\n",
       "      <td>IFD79NSG47</td>\n",
       "      <td>22</td>\n",
       "      <td>MN khan</td>\n",
       "      <td>0.0</td>\n",
       "      <td>Man drops magnum of Champagne on the floor in ...</td>\n",
       "      <td>NaN</td>\n",
       "      <td>Man spills magnum of champagne ‘worth £30,000’...</td>\n",
       "      <td>12.0</td>\n",
       "      <td>12</td>\n",
       "      <td>4</td>\n",
       "      <td>32337</td>\n",
       "      <td>TRUE</td>\n",
       "      <td>FALSE</td>\n",
       "      <td>8339</td>\n",
       "      <td>5436</td>\n",
       "      <td>True</td>\n",
       "      <td>465531</td>\n",
       "    </tr>\n",
       "  </tbody>\n",
       "</table>\n",
       "<p>3198 rows × 17 columns</p>\n",
       "</div>"
      ],
      "text/plain": [
       "        Video_id category_id          channel_title  subscriber  \\\n",
       "0      HDR9SQc79          22           CaseyNeistat   9086142.0   \n",
       "1     KNH52UF?48          24        LastWeekTonight   5937292.0   \n",
       "2     QTW28IRG36          23           Rudy Mancuso   4191209.0   \n",
       "3     MGL76WI]26          24  Good Mythical Morning  13186408.0   \n",
       "4     TWP93KXT70          24               nigahiga  20563106.0   \n",
       "...          ...         ...                    ...         ...   \n",
       "3193  OKR48DOE67          20         EA SPORTS FIFA   3150213.0   \n",
       "3194  QJK69DS?91          10          JackWhiteVEVO    261596.0   \n",
       "3195  VHF51NVr11          10         JamesBlakeVEVO     28321.0   \n",
       "3196  XHU22OAJ39          26             Refinery29    890739.0   \n",
       "3197  IFD79NSG47          22                MN khan         0.0   \n",
       "\n",
       "                                                  title  \\\n",
       "0                    WE WANT TO TALK ABOUT OUR MARRIAGE   \n",
       "1     The Trump Presidency: Last Week Tonight with J...   \n",
       "2     Racist Superman | Rudy Mancuso, King Bach & Le...   \n",
       "3                      Nickelback Lyrics: Real or Fake?   \n",
       "4                              I Dare You: GOING BALD!?   \n",
       "...                                                 ...   \n",
       "3193      FIFA 18 - FUT Champions Cup Barcelona - Day 1   \n",
       "3194                   Jack White - Corporation (Audio)   \n",
       "3195  James Blake - If The Car Beside You Moves Ahea...   \n",
       "3196  Lucie Fink Trains Like A Professional Gymnast ...   \n",
       "3197  Man drops magnum of Champagne on the floor in ...   \n",
       "\n",
       "                                                   tags  \\\n",
       "0                                       SHANtell martin   \n",
       "1     last week tonight trump presidency|last week t...   \n",
       "2     racist superman|rudy|mancuso|king|bach|racist|...   \n",
       "3     rhett and link|gmm|good mythical morning|rhett...   \n",
       "4     ryan|higa|higatv|nigahiga|i dare you|idy|rhpc|...   \n",
       "...                                                 ...   \n",
       "3193  fifa|fifa ultimate team|fut|fifa pack opening|...   \n",
       "3194  Alternative|Corporation|Jack White|Third Man R...   \n",
       "3195  James|Blake|If|The|Car|Beside|You|Moves|Ahead|...   \n",
       "3196  refinery29|refinery 29|r29|r29 video|refinery2...   \n",
       "3197                                                NaN   \n",
       "\n",
       "                                            description  Trend_day_count  \\\n",
       "0     SHANTELL'S CHANNEL - https://www.youtube.com/s...              6.0   \n",
       "1     One year after the presidential election, John...              1.0   \n",
       "2     WATCH MY PREVIOUS VIDEO ▶ \\n\\nSUBSCRIBE ► http...             10.0   \n",
       "3     Today we find out if Link is a Nickelback amat...             12.0   \n",
       "4     I know it's been a while since we did this sho...             11.0   \n",
       "...                                                 ...              ...   \n",
       "3193  Day 1 of the FUT Champions Cup Barcelona featu...              7.0   \n",
       "3194  “Corporation” by Jack White from the forthcomi...              7.0   \n",
       "3195  If the car beside you moves ahead \\nAs much as...             11.0   \n",
       "3196  On this episode of Lucie For Hire, our host Lu...             11.0   \n",
       "3197  Man spills magnum of champagne ‘worth £30,000’...             12.0   \n",
       "\n",
       "     Tag_count Trend_tag_count comment_count comment_disabled  \\\n",
       "0           21               6                          FALSE   \n",
       "1           23               1        116266             TRUE   \n",
       "2           22               3        257850             TRUE   \n",
       "3           17               5        263939             TRUE   \n",
       "4           15               7        268085             TRUE   \n",
       "...        ...             ...           ...              ...   \n",
       "3193        20               5                          FALSE   \n",
       "3194         8               6                          FALSE   \n",
       "3195        15               4                          FALSE   \n",
       "3196        14               6        250750             TRUE   \n",
       "3197        12               4         32337             TRUE   \n",
       "\n",
       "     like dislike disabled  likes dislike tag appered in title    views  \n",
       "0                    FALSE  13342    6089                False  1978978  \n",
       "1                    FALSE   5761    3044                False  1487870  \n",
       "2                     TRUE      0       0                 True  1502102  \n",
       "3                     TRUE      0       0                 True  3519302  \n",
       "4                     TRUE      0       0                 True  4835374  \n",
       "...                    ...    ...     ...                  ...      ...  \n",
       "3193                 FALSE   9734    5912                False   747960  \n",
       "3194                 FALSE  16006   12019                 True   200410  \n",
       "3195                  TRUE      0       0                 True   244022  \n",
       "3196                 FALSE   6859    1247                 True   907340  \n",
       "3197                 FALSE   8339    5436                 True   465531  \n",
       "\n",
       "[3198 rows x 17 columns]"
      ]
     },
     "execution_count": 13,
     "metadata": {},
     "output_type": "execute_result"
    }
   ],
   "source": [
    "df"
   ]
  },
  {
   "cell_type": "code",
   "execution_count": 14,
   "metadata": {},
   "outputs": [
    {
     "data": {
      "text/plain": [
       "Index(['Video_id', 'category_id', 'channel_title', 'subscriber', 'title',\n",
       "       'tags', 'description', 'Trend_day_count', 'Tag_count',\n",
       "       'Trend_tag_count', 'comment_count', 'comment_disabled',\n",
       "       'like dislike disabled', 'likes', 'dislike', 'tag appered in title',\n",
       "       'views'],\n",
       "      dtype='object')"
      ]
     },
     "execution_count": 14,
     "metadata": {},
     "output_type": "execute_result"
    }
   ],
   "source": [
    "df.columns"
   ]
  },
  {
   "cell_type": "code",
   "execution_count": 15,
   "metadata": {},
   "outputs": [],
   "source": [
    "#Cleaning Col category_id"
   ]
  },
  {
   "cell_type": "code",
   "execution_count": 16,
   "metadata": {},
   "outputs": [
    {
     "data": {
      "text/plain": [
       "array(['22', '24', '23', '28', '1', '25', '17', '10', '15', '27', '26',\n",
       "       '2', '19', '20', nan, '29', '“24', '43'], dtype=object)"
      ]
     },
     "execution_count": 16,
     "metadata": {},
     "output_type": "execute_result"
    }
   ],
   "source": [
    "df['category_id'].unique()"
   ]
  },
  {
   "cell_type": "code",
   "execution_count": 17,
   "metadata": {},
   "outputs": [],
   "source": [
    "df['category_id']=pd.to_numeric(df['category_id'].str.replace('\"',''),errors='coerce')\n"
   ]
  },
  {
   "cell_type": "code",
   "execution_count": 18,
   "metadata": {},
   "outputs": [],
   "source": [
    "#Cleaning Col Tag_count"
   ]
  },
  {
   "cell_type": "code",
   "execution_count": 19,
   "metadata": {},
   "outputs": [
    {
     "data": {
      "text/plain": [
       "array(['21', '23', '22', '17', '15', '9', '14', '20', '8', '10', '18',\n",
       "       '19', '25', '12', '24', '16', '11', '13', '3222',\n",
       "       'alissa ashley|alissa ashley makeup|hooded eye makeup|makeup for hooded eyes',\n",
       "       '3225', nan, '0'], dtype=object)"
      ]
     },
     "execution_count": 19,
     "metadata": {},
     "output_type": "execute_result"
    }
   ],
   "source": [
    "df['Tag_count'].unique()"
   ]
  },
  {
   "cell_type": "code",
   "execution_count": 20,
   "metadata": {},
   "outputs": [],
   "source": [
    "df['Tag_count']=df['Tag_count'].str.replace('alissa ashley|alissa ashley makeup|hooded eye makeup|makeup for hooded eyes','0').replace('','0')"
   ]
  },
  {
   "cell_type": "code",
   "execution_count": 21,
   "metadata": {},
   "outputs": [],
   "source": [
    "df['Tag_count']=pd.to_numeric(df['Tag_count'],errors='coerce')"
   ]
  },
  {
   "cell_type": "code",
   "execution_count": 22,
   "metadata": {},
   "outputs": [
    {
     "data": {
      "text/plain": [
       "0       21.0\n",
       "1       23.0\n",
       "2       22.0\n",
       "3       17.0\n",
       "4       15.0\n",
       "        ... \n",
       "3193    20.0\n",
       "3194     8.0\n",
       "3195    15.0\n",
       "3196    14.0\n",
       "3197    12.0\n",
       "Name: Tag_count, Length: 3198, dtype: float64"
      ]
     },
     "execution_count": 22,
     "metadata": {},
     "output_type": "execute_result"
    }
   ],
   "source": [
    "df['Tag_count']"
   ]
  },
  {
   "cell_type": "code",
   "execution_count": 23,
   "metadata": {},
   "outputs": [
    {
     "data": {
      "text/plain": [
       "0       21.0\n",
       "1       23.0\n",
       "2       22.0\n",
       "3       17.0\n",
       "4       15.0\n",
       "        ... \n",
       "3193    20.0\n",
       "3194     8.0\n",
       "3195    15.0\n",
       "3196    14.0\n",
       "3197    12.0\n",
       "Name: Tag_count, Length: 3198, dtype: float64"
      ]
     },
     "execution_count": 23,
     "metadata": {},
     "output_type": "execute_result"
    }
   ],
   "source": [
    "df['Tag_count']"
   ]
  },
  {
   "cell_type": "code",
   "execution_count": 24,
   "metadata": {},
   "outputs": [
    {
     "data": {
      "text/plain": [
       "Index(['Video_id', 'category_id', 'channel_title', 'subscriber', 'title',\n",
       "       'tags', 'description', 'Trend_day_count', 'Tag_count',\n",
       "       'Trend_tag_count', 'comment_count', 'comment_disabled',\n",
       "       'like dislike disabled', 'likes', 'dislike', 'tag appered in title',\n",
       "       'views'],\n",
       "      dtype='object')"
      ]
     },
     "execution_count": 24,
     "metadata": {},
     "output_type": "execute_result"
    }
   ],
   "source": [
    "df.columns"
   ]
  },
  {
   "cell_type": "code",
   "execution_count": 25,
   "metadata": {},
   "outputs": [
    {
     "data": {
      "text/plain": [
       "array(['6', '1', '3', '5', '7', '2', '4', nan, '>', '9903',\n",
       "       \"Hey guys! To get in the holiday spirit, I created this simple holiday glam makeup look.  Check it out and let me know what you think. Special thanks to Flirt Cosmetics for partnering with me on this video. \\\\n\\\\nClick here for more info on the Major Metallics Eyeshadow Palette https://www.flirtcosmetics.com/product/6542/54400/eyes/major-metallics/eyeshadow-palette\\\\n\\\\nDon't forget to subscribe to my channel! xx \\\\n\\\\nConnect With Me :)\\\\nInstagram: http://instagram.com/alissa.ashley/\\\\nTwitter: http://twitter.com/alissa_ashleyy\\\\nSnapchat: Alissa.Ashleyy\\\\n\\\\nContact information:\\\\nBusiness and PR inquiries - vanessa@jamesgrant.com\\\\nPersonal inquiries - zinnermanalissa@gmail.com\"],\n",
       "      dtype=object)"
      ]
     },
     "execution_count": 25,
     "metadata": {},
     "output_type": "execute_result"
    }
   ],
   "source": [
    "df[ 'Trend_tag_count'].unique()"
   ]
  },
  {
   "cell_type": "code",
   "execution_count": 26,
   "metadata": {},
   "outputs": [],
   "source": [
    "df[ 'Trend_tag_count']=pd.to_numeric(df[ 'Trend_tag_count'],errors='coerce')"
   ]
  },
  {
   "cell_type": "code",
   "execution_count": 27,
   "metadata": {},
   "outputs": [
    {
     "data": {
      "text/plain": [
       "array(['13342', '5761', '0', ..., '10254', '9734', '16006'], dtype=object)"
      ]
     },
     "execution_count": 27,
     "metadata": {},
     "output_type": "execute_result"
    }
   ],
   "source": [
    "df['likes'].unique()"
   ]
  },
  {
   "cell_type": "code",
   "execution_count": 28,
   "metadata": {},
   "outputs": [
    {
     "data": {
      "text/plain": [
       "0       01030304020\n",
       "1         050706010\n",
       "2               000\n",
       "3               000\n",
       "4               000\n",
       "           ...     \n",
       "3193      090703040\n",
       "3194    01060000060\n",
       "3195            000\n",
       "3196      060805090\n",
       "3197      080303090\n",
       "Name: likes, Length: 3198, dtype: object"
      ]
     },
     "execution_count": 28,
     "metadata": {},
     "output_type": "execute_result"
    }
   ],
   "source": [
    "df['likes'].str.replace('','0')"
   ]
  },
  {
   "cell_type": "code",
   "execution_count": 29,
   "metadata": {},
   "outputs": [],
   "source": [
    "df['likes']=pd.to_numeric(df['likes'],errors='coerce')"
   ]
  },
  {
   "cell_type": "code",
   "execution_count": 30,
   "metadata": {},
   "outputs": [
    {
     "data": {
      "text/plain": [
       "0       13342.0\n",
       "1        5761.0\n",
       "2           0.0\n",
       "3           0.0\n",
       "4           0.0\n",
       "         ...   \n",
       "3193     9734.0\n",
       "3194    16006.0\n",
       "3195        0.0\n",
       "3196     6859.0\n",
       "3197     8339.0\n",
       "Name: likes, Length: 3198, dtype: float64"
      ]
     },
     "execution_count": 30,
     "metadata": {},
     "output_type": "execute_result"
    }
   ],
   "source": [
    "df['likes']"
   ]
  },
  {
   "cell_type": "code",
   "execution_count": 31,
   "metadata": {},
   "outputs": [
    {
     "data": {
      "text/plain": [
       "array(['6089', '3044', '0', ..., '8834', '1247', '5436'], dtype=object)"
      ]
     },
     "execution_count": 31,
     "metadata": {},
     "output_type": "execute_result"
    }
   ],
   "source": [
    "df.dislike.unique()"
   ]
  },
  {
   "cell_type": "code",
   "execution_count": 32,
   "metadata": {},
   "outputs": [
    {
     "data": {
      "text/plain": [
       "0         060008090\n",
       "1         030004040\n",
       "2               000\n",
       "3               000\n",
       "4               000\n",
       "           ...     \n",
       "3193      050901020\n",
       "3194    01020001090\n",
       "3195            000\n",
       "3196      010204070\n",
       "3197      050403060\n",
       "Name: dislike, Length: 3198, dtype: object"
      ]
     },
     "execution_count": 32,
     "metadata": {},
     "output_type": "execute_result"
    }
   ],
   "source": [
    "df['dislike'].str.replace('','0')"
   ]
  },
  {
   "cell_type": "code",
   "execution_count": 33,
   "metadata": {},
   "outputs": [],
   "source": [
    "df['dislike']=pd.to_numeric(df['dislike'],errors='coerce')"
   ]
  },
  {
   "cell_type": "code",
   "execution_count": 34,
   "metadata": {},
   "outputs": [
    {
     "data": {
      "text/plain": [
       "0        6089.0\n",
       "1        3044.0\n",
       "2           0.0\n",
       "3           0.0\n",
       "4           0.0\n",
       "         ...   \n",
       "3193     5912.0\n",
       "3194    12019.0\n",
       "3195        0.0\n",
       "3196     1247.0\n",
       "3197     5436.0\n",
       "Name: dislike, Length: 3198, dtype: float64"
      ]
     },
     "execution_count": 34,
     "metadata": {},
     "output_type": "execute_result"
    }
   ],
   "source": [
    "df['dislike']"
   ]
  },
  {
   "cell_type": "code",
   "execution_count": 35,
   "metadata": {},
   "outputs": [],
   "source": [
    "df['views']=df['views'].replace(' ','0')"
   ]
  },
  {
   "cell_type": "code",
   "execution_count": 36,
   "metadata": {},
   "outputs": [],
   "source": [
    "df['views']=pd.to_numeric(df['views'],errors='coerce')"
   ]
  },
  {
   "cell_type": "code",
   "execution_count": 37,
   "metadata": {},
   "outputs": [],
   "source": [
    "df['comment_count']=df['comment_count'].replace(' ','0')"
   ]
  },
  {
   "cell_type": "code",
   "execution_count": 38,
   "metadata": {},
   "outputs": [
    {
     "name": "stdout",
     "output_type": "stream",
     "text": [
      "<class 'pandas.core.frame.DataFrame'>\n",
      "RangeIndex: 3198 entries, 0 to 3197\n",
      "Data columns (total 17 columns):\n",
      " #   Column                 Non-Null Count  Dtype  \n",
      "---  ------                 --------------  -----  \n",
      " 0   Video_id               3198 non-null   object \n",
      " 1   category_id            3191 non-null   float64\n",
      " 2   channel_title          3195 non-null   object \n",
      " 3   subscriber             3175 non-null   float64\n",
      " 4   title                  3195 non-null   object \n",
      " 5   tags                   3046 non-null   object \n",
      " 6   description            3133 non-null   object \n",
      " 7   Trend_day_count        3197 non-null   float64\n",
      " 8   Tag_count              3196 non-null   float64\n",
      " 9   Trend_tag_count        3195 non-null   float64\n",
      " 10  comment_count          3198 non-null   object \n",
      " 11  comment_disabled       3198 non-null   object \n",
      " 12  like dislike disabled  3198 non-null   object \n",
      " 13  likes                  3197 non-null   float64\n",
      " 14  dislike                3197 non-null   float64\n",
      " 15  tag appered in title   3197 non-null   object \n",
      " 16  views                  3197 non-null   float64\n",
      "dtypes: float64(8), object(9)\n",
      "memory usage: 424.9+ KB\n"
     ]
    }
   ],
   "source": [
    "df.info()"
   ]
  },
  {
   "cell_type": "code",
   "execution_count": 39,
   "metadata": {},
   "outputs": [],
   "source": [
    "df=df.fillna({'category_id':0,'subscriber':0,'Trend_day_count':0,'Tag_count':0,'Trend_tag_count':0,'comment_count':0,'likes':0,'dislike':0,'views':0})\n",
    "df=df.astype({'category_id':'int64','subscriber':'int64','Trend_day_count':'int64','Tag_count':'int64','Trend_tag_count':'int64','comment_count':'int64','likes':'int64','dislike':'int64','views':'int64'})"
   ]
  },
  {
   "cell_type": "code",
   "execution_count": 40,
   "metadata": {},
   "outputs": [],
   "source": [
    "df['comment_disabled'].replace('TRUE',False,inplace=True)\n",
    "df['comment_disabled'].replace('FALSE',True,inplace=True)"
   ]
  },
  {
   "cell_type": "code",
   "execution_count": 41,
   "metadata": {},
   "outputs": [],
   "source": [
    "df['like dislike disabled'].replace('TRUE',True,inplace=True)\n",
    "df['like dislike disabled'].replace('FALSE',False,inplace=True)"
   ]
  },
  {
   "cell_type": "code",
   "execution_count": 42,
   "metadata": {},
   "outputs": [
    {
     "name": "stdout",
     "output_type": "stream",
     "text": [
      "<class 'pandas.core.frame.DataFrame'>\n",
      "RangeIndex: 3198 entries, 0 to 3197\n",
      "Data columns (total 17 columns):\n",
      " #   Column                 Non-Null Count  Dtype \n",
      "---  ------                 --------------  ----- \n",
      " 0   Video_id               3198 non-null   object\n",
      " 1   category_id            3198 non-null   int64 \n",
      " 2   channel_title          3195 non-null   object\n",
      " 3   subscriber             3198 non-null   int64 \n",
      " 4   title                  3195 non-null   object\n",
      " 5   tags                   3046 non-null   object\n",
      " 6   description            3133 non-null   object\n",
      " 7   Trend_day_count        3198 non-null   int64 \n",
      " 8   Tag_count              3198 non-null   int64 \n",
      " 9   Trend_tag_count        3198 non-null   int64 \n",
      " 10  comment_count          3198 non-null   int64 \n",
      " 11  comment_disabled       3198 non-null   object\n",
      " 12  like dislike disabled  3198 non-null   object\n",
      " 13  likes                  3198 non-null   int64 \n",
      " 14  dislike                3198 non-null   int64 \n",
      " 15  tag appered in title   3197 non-null   object\n",
      " 16  views                  3198 non-null   int64 \n",
      "dtypes: int64(9), object(8)\n",
      "memory usage: 424.9+ KB\n"
     ]
    }
   ],
   "source": [
    "df.info()"
   ]
  },
  {
   "cell_type": "code",
   "execution_count": 43,
   "metadata": {},
   "outputs": [],
   "source": [
    "df.comment_disabled.replace('25',False,inplace=True)"
   ]
  },
  {
   "cell_type": "code",
   "execution_count": 44,
   "metadata": {},
   "outputs": [],
   "source": [
    "df['like dislike disabled'].replace('4',True,inplace=True)"
   ]
  },
  {
   "cell_type": "code",
   "execution_count": 45,
   "metadata": {},
   "outputs": [],
   "source": [
    "df['tag appered in title']=df['tag appered in title'].astype('bool')"
   ]
  },
  {
   "cell_type": "markdown",
   "metadata": {},
   "source": [
    "# DATA VISUALISATION"
   ]
  },
  {
   "cell_type": "markdown",
   "metadata": {},
   "source": [
    "### category_id   (count by category)"
   ]
  },
  {
   "cell_type": "code",
   "execution_count": 46,
   "metadata": {},
   "outputs": [
    {
     "data": {
      "image/png": "[encoded data removed]",
      "text/plain": [
       "<Figure size 864x432 with 1 Axes>"
      ]
     },
     "metadata": {
      "needs_background": "light"
     },
     "output_type": "display_data"
    }
   ],
   "source": [
    "plt.figure(figsize=(12,6))\n",
    "plt.title('VIDEO COUNT BY CATEGORY')\n",
    "sns.countplot('category_id',data=df,palette='rainbow');"
   ]
  },
  {
   "cell_type": "markdown",
   "metadata": {},
   "source": [
    "#### About 770-780 videos lie in the category 24 , which is the highest of all the categories. Whereas category id's 0,29 and 43 have the lowest count of the videos."
   ]
  },
  {
   "cell_type": "markdown",
   "metadata": {},
   "source": [
    "### Subscriber(Top 15 channels with most subscribers)"
   ]
  },
  {
   "cell_type": "code",
   "execution_count": 47,
   "metadata": {},
   "outputs": [
    {
     "data": {
      "text/html": [
       "<div>\n",
       "<style scoped>\n",
       "    .dataframe tbody tr th:only-of-type {\n",
       "        vertical-align: middle;\n",
       "    }\n",
       "\n",
       "    .dataframe tbody tr th {\n",
       "        vertical-align: top;\n",
       "    }\n",
       "\n",
       "    .dataframe thead th {\n",
       "        text-align: right;\n",
       "    }\n",
       "</style>\n",
       "<table border=\"1\" class=\"dataframe\">\n",
       "  <thead>\n",
       "    <tr style=\"text-align: right;\">\n",
       "      <th></th>\n",
       "      <th>Video_id</th>\n",
       "      <th>category_id</th>\n",
       "      <th>channel_title</th>\n",
       "      <th>subscriber</th>\n",
       "      <th>title</th>\n",
       "      <th>tags</th>\n",
       "      <th>description</th>\n",
       "      <th>Trend_day_count</th>\n",
       "      <th>Tag_count</th>\n",
       "      <th>Trend_tag_count</th>\n",
       "      <th>comment_count</th>\n",
       "      <th>comment_disabled</th>\n",
       "      <th>like dislike disabled</th>\n",
       "      <th>likes</th>\n",
       "      <th>dislike</th>\n",
       "      <th>tag appered in title</th>\n",
       "      <th>views</th>\n",
       "    </tr>\n",
       "  </thead>\n",
       "  <tbody>\n",
       "    <tr>\n",
       "      <th>0</th>\n",
       "      <td>HDR9SQc79</td>\n",
       "      <td>22</td>\n",
       "      <td>CaseyNeistat</td>\n",
       "      <td>9086142</td>\n",
       "      <td>WE WANT TO TALK ABOUT OUR MARRIAGE</td>\n",
       "      <td>SHANtell martin</td>\n",
       "      <td>SHANTELL'S CHANNEL - https://www.youtube.com/s...</td>\n",
       "      <td>6</td>\n",
       "      <td>21</td>\n",
       "      <td>6</td>\n",
       "      <td>0</td>\n",
       "      <td>True</td>\n",
       "      <td>False</td>\n",
       "      <td>13342</td>\n",
       "      <td>6089</td>\n",
       "      <td>False</td>\n",
       "      <td>1978978</td>\n",
       "    </tr>\n",
       "    <tr>\n",
       "      <th>1</th>\n",
       "      <td>KNH52UF?48</td>\n",
       "      <td>24</td>\n",
       "      <td>LastWeekTonight</td>\n",
       "      <td>5937292</td>\n",
       "      <td>The Trump Presidency: Last Week Tonight with J...</td>\n",
       "      <td>last week tonight trump presidency|last week t...</td>\n",
       "      <td>One year after the presidential election, John...</td>\n",
       "      <td>1</td>\n",
       "      <td>23</td>\n",
       "      <td>1</td>\n",
       "      <td>116266</td>\n",
       "      <td>False</td>\n",
       "      <td>False</td>\n",
       "      <td>5761</td>\n",
       "      <td>3044</td>\n",
       "      <td>False</td>\n",
       "      <td>1487870</td>\n",
       "    </tr>\n",
       "    <tr>\n",
       "      <th>2</th>\n",
       "      <td>QTW28IRG36</td>\n",
       "      <td>23</td>\n",
       "      <td>Rudy Mancuso</td>\n",
       "      <td>4191209</td>\n",
       "      <td>Racist Superman | Rudy Mancuso, King Bach &amp; Le...</td>\n",
       "      <td>racist superman|rudy|mancuso|king|bach|racist|...</td>\n",
       "      <td>WATCH MY PREVIOUS VIDEO ▶ \\n\\nSUBSCRIBE ► http...</td>\n",
       "      <td>10</td>\n",
       "      <td>22</td>\n",
       "      <td>3</td>\n",
       "      <td>257850</td>\n",
       "      <td>False</td>\n",
       "      <td>True</td>\n",
       "      <td>0</td>\n",
       "      <td>0</td>\n",
       "      <td>True</td>\n",
       "      <td>1502102</td>\n",
       "    </tr>\n",
       "    <tr>\n",
       "      <th>3</th>\n",
       "      <td>MGL76WI]26</td>\n",
       "      <td>24</td>\n",
       "      <td>Good Mythical Morning</td>\n",
       "      <td>13186408</td>\n",
       "      <td>Nickelback Lyrics: Real or Fake?</td>\n",
       "      <td>rhett and link|gmm|good mythical morning|rhett...</td>\n",
       "      <td>Today we find out if Link is a Nickelback amat...</td>\n",
       "      <td>12</td>\n",
       "      <td>17</td>\n",
       "      <td>5</td>\n",
       "      <td>263939</td>\n",
       "      <td>False</td>\n",
       "      <td>True</td>\n",
       "      <td>0</td>\n",
       "      <td>0</td>\n",
       "      <td>True</td>\n",
       "      <td>3519302</td>\n",
       "    </tr>\n",
       "    <tr>\n",
       "      <th>4</th>\n",
       "      <td>TWP93KXT70</td>\n",
       "      <td>24</td>\n",
       "      <td>nigahiga</td>\n",
       "      <td>20563106</td>\n",
       "      <td>I Dare You: GOING BALD!?</td>\n",
       "      <td>ryan|higa|higatv|nigahiga|i dare you|idy|rhpc|...</td>\n",
       "      <td>I know it's been a while since we did this sho...</td>\n",
       "      <td>11</td>\n",
       "      <td>15</td>\n",
       "      <td>7</td>\n",
       "      <td>268085</td>\n",
       "      <td>False</td>\n",
       "      <td>True</td>\n",
       "      <td>0</td>\n",
       "      <td>0</td>\n",
       "      <td>True</td>\n",
       "      <td>4835374</td>\n",
       "    </tr>\n",
       "    <tr>\n",
       "      <th>...</th>\n",
       "      <td>...</td>\n",
       "      <td>...</td>\n",
       "      <td>...</td>\n",
       "      <td>...</td>\n",
       "      <td>...</td>\n",
       "      <td>...</td>\n",
       "      <td>...</td>\n",
       "      <td>...</td>\n",
       "      <td>...</td>\n",
       "      <td>...</td>\n",
       "      <td>...</td>\n",
       "      <td>...</td>\n",
       "      <td>...</td>\n",
       "      <td>...</td>\n",
       "      <td>...</td>\n",
       "      <td>...</td>\n",
       "      <td>...</td>\n",
       "    </tr>\n",
       "    <tr>\n",
       "      <th>3185</th>\n",
       "      <td>ZHM72PHp27</td>\n",
       "      <td>22</td>\n",
       "      <td>Daisy Marquez</td>\n",
       "      <td>891449</td>\n",
       "      <td>I have something to tell you..</td>\n",
       "      <td>Daisy Marquez|DaisyMarquez|Daisy Marques|Deisy...</td>\n",
       "      <td>►SUBSCRIBE http://bit.ly/SUBdaisy\\n\\nhttps://w...</td>\n",
       "      <td>5</td>\n",
       "      <td>24</td>\n",
       "      <td>1</td>\n",
       "      <td>269394</td>\n",
       "      <td>False</td>\n",
       "      <td>False</td>\n",
       "      <td>8039</td>\n",
       "      <td>4608</td>\n",
       "      <td>True</td>\n",
       "      <td>839720</td>\n",
       "    </tr>\n",
       "    <tr>\n",
       "      <th>3186</th>\n",
       "      <td>XXL70JLC3</td>\n",
       "      <td>10</td>\n",
       "      <td>XAmbassadorsVEVO</td>\n",
       "      <td>659876</td>\n",
       "      <td>X Ambassadors - JOYFUL</td>\n",
       "      <td>Ambassadors|JOYFUL|KIDinaKORNER/Interscope|Rec...</td>\n",
       "      <td>Listen to 'Joyful,' out now: \\nhttp://smarturl...</td>\n",
       "      <td>3</td>\n",
       "      <td>23</td>\n",
       "      <td>5</td>\n",
       "      <td>177804</td>\n",
       "      <td>False</td>\n",
       "      <td>False</td>\n",
       "      <td>13514</td>\n",
       "      <td>7078</td>\n",
       "      <td>False</td>\n",
       "      <td>605992</td>\n",
       "    </tr>\n",
       "    <tr>\n",
       "      <th>3193</th>\n",
       "      <td>OKR48DOE67</td>\n",
       "      <td>20</td>\n",
       "      <td>EA SPORTS FIFA</td>\n",
       "      <td>3150213</td>\n",
       "      <td>FIFA 18 - FUT Champions Cup Barcelona - Day 1</td>\n",
       "      <td>fifa|fifa ultimate team|fut|fifa pack opening|...</td>\n",
       "      <td>Day 1 of the FUT Champions Cup Barcelona featu...</td>\n",
       "      <td>7</td>\n",
       "      <td>20</td>\n",
       "      <td>5</td>\n",
       "      <td>0</td>\n",
       "      <td>True</td>\n",
       "      <td>False</td>\n",
       "      <td>9734</td>\n",
       "      <td>5912</td>\n",
       "      <td>False</td>\n",
       "      <td>747960</td>\n",
       "    </tr>\n",
       "    <tr>\n",
       "      <th>3195</th>\n",
       "      <td>VHF51NVr11</td>\n",
       "      <td>10</td>\n",
       "      <td>JamesBlakeVEVO</td>\n",
       "      <td>28321</td>\n",
       "      <td>James Blake - If The Car Beside You Moves Ahea...</td>\n",
       "      <td>James|Blake|If|The|Car|Beside|You|Moves|Ahead|...</td>\n",
       "      <td>If the car beside you moves ahead \\nAs much as...</td>\n",
       "      <td>11</td>\n",
       "      <td>15</td>\n",
       "      <td>4</td>\n",
       "      <td>0</td>\n",
       "      <td>True</td>\n",
       "      <td>True</td>\n",
       "      <td>0</td>\n",
       "      <td>0</td>\n",
       "      <td>True</td>\n",
       "      <td>244022</td>\n",
       "    </tr>\n",
       "    <tr>\n",
       "      <th>3197</th>\n",
       "      <td>IFD79NSG47</td>\n",
       "      <td>22</td>\n",
       "      <td>MN khan</td>\n",
       "      <td>0</td>\n",
       "      <td>Man drops magnum of Champagne on the floor in ...</td>\n",
       "      <td>NaN</td>\n",
       "      <td>Man spills magnum of champagne ‘worth £30,000’...</td>\n",
       "      <td>12</td>\n",
       "      <td>12</td>\n",
       "      <td>4</td>\n",
       "      <td>32337</td>\n",
       "      <td>False</td>\n",
       "      <td>False</td>\n",
       "      <td>8339</td>\n",
       "      <td>5436</td>\n",
       "      <td>True</td>\n",
       "      <td>465531</td>\n",
       "    </tr>\n",
       "  </tbody>\n",
       "</table>\n",
       "<p>1502 rows × 17 columns</p>\n",
       "</div>"
      ],
      "text/plain": [
       "        Video_id  category_id          channel_title  subscriber  \\\n",
       "0      HDR9SQc79           22           CaseyNeistat     9086142   \n",
       "1     KNH52UF?48           24        LastWeekTonight     5937292   \n",
       "2     QTW28IRG36           23           Rudy Mancuso     4191209   \n",
       "3     MGL76WI]26           24  Good Mythical Morning    13186408   \n",
       "4     TWP93KXT70           24               nigahiga    20563106   \n",
       "...          ...          ...                    ...         ...   \n",
       "3185  ZHM72PHp27           22          Daisy Marquez      891449   \n",
       "3186   XXL70JLC3           10       XAmbassadorsVEVO      659876   \n",
       "3193  OKR48DOE67           20         EA SPORTS FIFA     3150213   \n",
       "3195  VHF51NVr11           10         JamesBlakeVEVO       28321   \n",
       "3197  IFD79NSG47           22                MN khan           0   \n",
       "\n",
       "                                                  title  \\\n",
       "0                    WE WANT TO TALK ABOUT OUR MARRIAGE   \n",
       "1     The Trump Presidency: Last Week Tonight with J...   \n",
       "2     Racist Superman | Rudy Mancuso, King Bach & Le...   \n",
       "3                      Nickelback Lyrics: Real or Fake?   \n",
       "4                              I Dare You: GOING BALD!?   \n",
       "...                                                 ...   \n",
       "3185                     I have something to tell you..   \n",
       "3186                             X Ambassadors - JOYFUL   \n",
       "3193      FIFA 18 - FUT Champions Cup Barcelona - Day 1   \n",
       "3195  James Blake - If The Car Beside You Moves Ahea...   \n",
       "3197  Man drops magnum of Champagne on the floor in ...   \n",
       "\n",
       "                                                   tags  \\\n",
       "0                                       SHANtell martin   \n",
       "1     last week tonight trump presidency|last week t...   \n",
       "2     racist superman|rudy|mancuso|king|bach|racist|...   \n",
       "3     rhett and link|gmm|good mythical morning|rhett...   \n",
       "4     ryan|higa|higatv|nigahiga|i dare you|idy|rhpc|...   \n",
       "...                                                 ...   \n",
       "3185  Daisy Marquez|DaisyMarquez|Daisy Marques|Deisy...   \n",
       "3186  Ambassadors|JOYFUL|KIDinaKORNER/Interscope|Rec...   \n",
       "3193  fifa|fifa ultimate team|fut|fifa pack opening|...   \n",
       "3195  James|Blake|If|The|Car|Beside|You|Moves|Ahead|...   \n",
       "3197                                                NaN   \n",
       "\n",
       "                                            description  Trend_day_count  \\\n",
       "0     SHANTELL'S CHANNEL - https://www.youtube.com/s...                6   \n",
       "1     One year after the presidential election, John...                1   \n",
       "2     WATCH MY PREVIOUS VIDEO ▶ \\n\\nSUBSCRIBE ► http...               10   \n",
       "3     Today we find out if Link is a Nickelback amat...               12   \n",
       "4     I know it's been a while since we did this sho...               11   \n",
       "...                                                 ...              ...   \n",
       "3185  ►SUBSCRIBE http://bit.ly/SUBdaisy\\n\\nhttps://w...                5   \n",
       "3186  Listen to 'Joyful,' out now: \\nhttp://smarturl...                3   \n",
       "3193  Day 1 of the FUT Champions Cup Barcelona featu...                7   \n",
       "3195  If the car beside you moves ahead \\nAs much as...               11   \n",
       "3197  Man spills magnum of champagne ‘worth £30,000’...               12   \n",
       "\n",
       "      Tag_count  Trend_tag_count  comment_count  comment_disabled  \\\n",
       "0            21                6              0              True   \n",
       "1            23                1         116266             False   \n",
       "2            22                3         257850             False   \n",
       "3            17                5         263939             False   \n",
       "4            15                7         268085             False   \n",
       "...         ...              ...            ...               ...   \n",
       "3185         24                1         269394             False   \n",
       "3186         23                5         177804             False   \n",
       "3193         20                5              0              True   \n",
       "3195         15                4              0              True   \n",
       "3197         12                4          32337             False   \n",
       "\n",
       "      like dislike disabled  likes  dislike  tag appered in title    views  \n",
       "0                     False  13342     6089                 False  1978978  \n",
       "1                     False   5761     3044                 False  1487870  \n",
       "2                      True      0        0                  True  1502102  \n",
       "3                      True      0        0                  True  3519302  \n",
       "4                      True      0        0                  True  4835374  \n",
       "...                     ...    ...      ...                   ...      ...  \n",
       "3185                  False   8039     4608                  True   839720  \n",
       "3186                  False  13514     7078                 False   605992  \n",
       "3193                  False   9734     5912                 False   747960  \n",
       "3195                   True      0        0                  True   244022  \n",
       "3197                  False   8339     5436                  True   465531  \n",
       "\n",
       "[1502 rows x 17 columns]"
      ]
     },
     "execution_count": 47,
     "metadata": {},
     "output_type": "execute_result"
    }
   ],
   "source": [
    "#df.sort_values(by='subscriber',ascending=False).head(15)\n",
    "new_df=df.drop_duplicates(subset='channel_title',keep='first')\n",
    "new_df"
   ]
  },
  {
   "cell_type": "code",
   "execution_count": 48,
   "metadata": {},
   "outputs": [],
   "source": [
    "new_df=new_df.sort_values(by='subscriber',ascending=False).head(15)"
   ]
  },
  {
   "cell_type": "code",
   "execution_count": 49,
   "metadata": {},
   "outputs": [
    {
     "data": {
      "image/png": "[encoded data removed]",
      "text/plain": [
       "<Figure size 864x432 with 1 Axes>"
      ]
     },
     "metadata": {
      "needs_background": "light"
     },
     "output_type": "display_data"
    }
   ],
   "source": [
    "plt.figure(figsize=(12,6))\n",
    "sns.barplot(y='channel_title',x=new_df.subscriber/1e8,data=new_df).set(xlabel=\"subscriber(in million)\");"
   ]
  },
  {
   "cell_type": "markdown",
   "metadata": {},
   "source": [
    "### Trend Day Count"
   ]
  },
  {
   "cell_type": "code",
   "execution_count": 50,
   "metadata": {},
   "outputs": [
    {
     "data": {
      "image/png": "[encoded data removed]",
      "text/plain": [
       "<Figure size 864x432 with 1 Axes>"
      ]
     },
     "metadata": {
      "needs_background": "light"
     },
     "output_type": "display_data"
    }
   ],
   "source": [
    "plt.figure(figsize=(12,6))\n",
    "sns.countplot(x='Trend_day_count',data=df).set(title='Day-Wise Trending Video Count');"
   ]
  },
  {
   "cell_type": "code",
   "execution_count": 51,
   "metadata": {},
   "outputs": [
    {
     "data": {
      "text/plain": [
       "10      302\n",
       "3       283\n",
       "1       275\n",
       "4       275\n",
       "8       273\n",
       "12      269\n",
       "11      268\n",
       "5       261\n",
       "9       259\n",
       "7       258\n",
       "6       258\n",
       "2       212\n",
       "0         4\n",
       "4444      1\n",
       "Name: Trend_day_count, dtype: int64"
      ]
     },
     "execution_count": 51,
     "metadata": {},
     "output_type": "execute_result"
    }
   ],
   "source": [
    "df.Trend_day_count.value_counts()"
   ]
  },
  {
   "cell_type": "markdown",
   "metadata": {},
   "source": [
    "### Tag Count"
   ]
  },
  {
   "cell_type": "code",
   "execution_count": 52,
   "metadata": {},
   "outputs": [
    {
     "data": {
      "text/plain": [
       "[Text(0.5, 1.0, 'TAG COUNT')]"
      ]
     },
     "execution_count": 52,
     "metadata": {},
     "output_type": "execute_result"
    },
    {
     "data": {
      "image/png": "[encoded data removed]",
      "text/plain": [
       "<Figure size 864x432 with 1 Axes>"
      ]
     },
     "metadata": {
      "needs_background": "light"
     },
     "output_type": "display_data"
    }
   ],
   "source": [
    "### Tag Count\n",
    "plt.figure(figsize=(12,6))\n",
    "sns.countplot(x='Tag_count',data=df).set(title='TAG COUNT')"
   ]
  },
  {
   "cell_type": "markdown",
   "metadata": {},
   "source": [
    "### Comment Disabled"
   ]
  },
  {
   "cell_type": "code",
   "execution_count": 53,
   "metadata": {},
   "outputs": [
    {
     "data": {
      "image/png": "[encoded data removed]",
      "text/plain": [
       "<Figure size 864x432 with 1 Axes>"
      ]
     },
     "metadata": {},
     "output_type": "display_data"
    }
   ],
   "source": [
    "plt.figure(figsize=(12,6))\n",
    "plt.pie(x=df.comment_disabled.value_counts(),labels=['comments_enabled','comments_disabled'], autopct='%1.0f%%',startangle=180,explode=[0,0.1],colors=['orange','yellow']);"
   ]
  },
  {
   "cell_type": "code",
   "execution_count": 54,
   "metadata": {},
   "outputs": [
    {
     "data": {
      "image/png": "[encoded data removed]",
      "text/plain": [
       "<Figure size 864x432 with 1 Axes>"
      ]
     },
     "metadata": {},
     "output_type": "display_data"
    }
   ],
   "source": [
    "plt.figure(figsize=(12,6))\n",
    "plt.pie(x=df['like dislike disabled'].value_counts(),labels=['like dislike enabled','like dislike disabled'],autopct='%1.0f%%',startangle=180,colors=['lightgreen','pink'])\n",
    "\n",
    "# add a circle at the center to transform it in a donut chart\n",
    "my_circle=plt.Circle( (0,0), 0.7, color='white')\n",
    "p=plt.gcf()\n",
    "p.gca().add_artist(my_circle)\n",
    "\n",
    "plt.show()"
   ]
  },
  {
   "cell_type": "markdown",
   "metadata": {},
   "source": [
    "### Tag Appeared in Title "
   ]
  },
  {
   "cell_type": "code",
   "execution_count": 55,
   "metadata": {},
   "outputs": [
    {
     "data": {
      "text/plain": [
       "True     2109\n",
       "False    1089\n",
       "Name: tag appered in title, dtype: int64"
      ]
     },
     "execution_count": 55,
     "metadata": {},
     "output_type": "execute_result"
    }
   ],
   "source": [
    "df['tag appered in title'].value_counts()"
   ]
  },
  {
   "cell_type": "code",
   "execution_count": 56,
   "metadata": {},
   "outputs": [
    {
     "data": {
      "image/png": "[encoded data removed]",
      "text/plain": [
       "<Figure size 432x288 with 1 Axes>"
      ]
     },
     "metadata": {
      "needs_background": "light"
     },
     "output_type": "display_data"
    }
   ],
   "source": [
    "sns.countplot(y='tag appered in title',data=df).set(ylabel='tag appeared in title');"
   ]
  },
  {
   "cell_type": "markdown",
   "metadata": {},
   "source": [
    "## ASKING AND ANSWERING QUESTIONS"
   ]
  },
  {
   "cell_type": "markdown",
   "metadata": {},
   "source": [
    "#### Q1.What is the total subscriber count for each video category?"
   ]
  },
  {
   "cell_type": "code",
   "execution_count": 57,
   "metadata": {},
   "outputs": [
    {
     "data": {
      "text/plain": [
       "array([22, 24, 23, 28,  1, 25, 17, 10, 15, 27, 26,  2, 19, 20,  0, 29, 43],\n",
       "      dtype=int64)"
      ]
     },
     "execution_count": 57,
     "metadata": {},
     "output_type": "execute_result"
    }
   ],
   "source": [
    "df.category_id.unique()"
   ]
  },
  {
   "cell_type": "code",
   "execution_count": 58,
   "metadata": {},
   "outputs": [
    {
     "data": {
      "text/plain": [
       "0           73\n",
       "890739      34\n",
       "15769455    30\n",
       "3808198     29\n",
       "23760020    29\n",
       "            ..\n",
       "289          1\n",
       "1464960      1\n",
       "250147       1\n",
       "86311        1\n",
       "18378        1\n",
       "Name: subscriber, Length: 1452, dtype: int64"
      ]
     },
     "execution_count": 58,
     "metadata": {},
     "output_type": "execute_result"
    }
   ],
   "source": [
    "df.subscriber.value_counts()"
   ]
  },
  {
   "cell_type": "code",
   "execution_count": 59,
   "metadata": {},
   "outputs": [],
   "source": [
    "cat_sub=df.groupby('category_id')['subscriber'].sum()"
   ]
  },
  {
   "cell_type": "code",
   "execution_count": 60,
   "metadata": {},
   "outputs": [
    {
     "data": {
      "text/plain": [
       "category_id\n",
       "0       22544827\n",
       "1      293399838\n",
       "2       26207950\n",
       "10    1666476106\n",
       "15     158933169\n",
       "17     971100160\n",
       "19      29311793\n",
       "20     114274372\n",
       "22     668826771\n",
       "23    3301710681\n",
       "24    3098823081\n",
       "25     338471029\n",
       "26     757893096\n",
       "27     313516640\n",
       "28     358484831\n",
       "29      17940170\n",
       "43       3224496\n",
       "Name: subscriber, dtype: int64"
      ]
     },
     "execution_count": 60,
     "metadata": {},
     "output_type": "execute_result"
    }
   ],
   "source": [
    "cat_sub"
   ]
  },
  {
   "cell_type": "code",
   "execution_count": 61,
   "metadata": {},
   "outputs": [
    {
     "data": {
      "image/png": "[encoded data removed]",
      "text/plain": [
       "<Figure size 864x432 with 1 Axes>"
      ]
     },
     "metadata": {
      "needs_background": "light"
     },
     "output_type": "display_data"
    }
   ],
   "source": [
    "plt.figure(figsize=(12,6))\n",
    "plt.xlabel(\"Category Id\")\n",
    "plt.ylabel(\"Total count of subscriber/1e9\")\n",
    "plt.title(\"What is the total subscriber count for each video category?\")\n",
    "plt.plot(cat_sub.index,cat_sub/1e9,\"b--D\");"
   ]
  },
  {
   "cell_type": "markdown",
   "metadata": {},
   "source": [
    "#### Q2.What is the total like/dislike count for each video category?"
   ]
  },
  {
   "cell_type": "code",
   "execution_count": 62,
   "metadata": {},
   "outputs": [],
   "source": [
    "cat_ld=df.groupby('category_id')[['likes','dislike']].sum()"
   ]
  },
  {
   "cell_type": "code",
   "execution_count": 63,
   "metadata": {},
   "outputs": [
    {
     "data": {
      "text/html": [
       "<div>\n",
       "<style scoped>\n",
       "    .dataframe tbody tr th:only-of-type {\n",
       "        vertical-align: middle;\n",
       "    }\n",
       "\n",
       "    .dataframe tbody tr th {\n",
       "        vertical-align: top;\n",
       "    }\n",
       "\n",
       "    .dataframe thead th {\n",
       "        text-align: right;\n",
       "    }\n",
       "</style>\n",
       "<table border=\"1\" class=\"dataframe\">\n",
       "  <thead>\n",
       "    <tr style=\"text-align: right;\">\n",
       "      <th></th>\n",
       "      <th>likes</th>\n",
       "      <th>dislike</th>\n",
       "    </tr>\n",
       "    <tr>\n",
       "      <th>category_id</th>\n",
       "      <th></th>\n",
       "      <th></th>\n",
       "    </tr>\n",
       "  </thead>\n",
       "  <tbody>\n",
       "    <tr>\n",
       "      <th>0</th>\n",
       "      <td>75922</td>\n",
       "      <td>49482</td>\n",
       "    </tr>\n",
       "    <tr>\n",
       "      <th>1</th>\n",
       "      <td>1386935</td>\n",
       "      <td>847076</td>\n",
       "    </tr>\n",
       "    <tr>\n",
       "      <th>2</th>\n",
       "      <td>408772</td>\n",
       "      <td>249549</td>\n",
       "    </tr>\n",
       "    <tr>\n",
       "      <th>10</th>\n",
       "      <td>3924463</td>\n",
       "      <td>2391686</td>\n",
       "    </tr>\n",
       "    <tr>\n",
       "      <th>15</th>\n",
       "      <td>582918</td>\n",
       "      <td>370126</td>\n",
       "    </tr>\n",
       "    <tr>\n",
       "      <th>17</th>\n",
       "      <td>1920310</td>\n",
       "      <td>1220889</td>\n",
       "    </tr>\n",
       "    <tr>\n",
       "      <th>19</th>\n",
       "      <td>298807</td>\n",
       "      <td>190438</td>\n",
       "    </tr>\n",
       "    <tr>\n",
       "      <th>20</th>\n",
       "      <td>302578</td>\n",
       "      <td>174271</td>\n",
       "    </tr>\n",
       "    <tr>\n",
       "      <th>22</th>\n",
       "      <td>3571793</td>\n",
       "      <td>1462069</td>\n",
       "    </tr>\n",
       "    <tr>\n",
       "      <th>23</th>\n",
       "      <td>2488553</td>\n",
       "      <td>1552009</td>\n",
       "    </tr>\n",
       "    <tr>\n",
       "      <th>24</th>\n",
       "      <td>7905699</td>\n",
       "      <td>4853075</td>\n",
       "    </tr>\n",
       "    <tr>\n",
       "      <th>25</th>\n",
       "      <td>2556850</td>\n",
       "      <td>1536389</td>\n",
       "    </tr>\n",
       "    <tr>\n",
       "      <th>26</th>\n",
       "      <td>2899556</td>\n",
       "      <td>1804561</td>\n",
       "    </tr>\n",
       "    <tr>\n",
       "      <th>27</th>\n",
       "      <td>1091499</td>\n",
       "      <td>680574</td>\n",
       "    </tr>\n",
       "    <tr>\n",
       "      <th>28</th>\n",
       "      <td>1734276</td>\n",
       "      <td>1068547</td>\n",
       "    </tr>\n",
       "    <tr>\n",
       "      <th>29</th>\n",
       "      <td>38155</td>\n",
       "      <td>20852</td>\n",
       "    </tr>\n",
       "    <tr>\n",
       "      <th>43</th>\n",
       "      <td>35290</td>\n",
       "      <td>22049</td>\n",
       "    </tr>\n",
       "  </tbody>\n",
       "</table>\n",
       "</div>"
      ],
      "text/plain": [
       "               likes  dislike\n",
       "category_id                  \n",
       "0              75922    49482\n",
       "1            1386935   847076\n",
       "2             408772   249549\n",
       "10           3924463  2391686\n",
       "15            582918   370126\n",
       "17           1920310  1220889\n",
       "19            298807   190438\n",
       "20            302578   174271\n",
       "22           3571793  1462069\n",
       "23           2488553  1552009\n",
       "24           7905699  4853075\n",
       "25           2556850  1536389\n",
       "26           2899556  1804561\n",
       "27           1091499   680574\n",
       "28           1734276  1068547\n",
       "29             38155    20852\n",
       "43             35290    22049"
      ]
     },
     "execution_count": 63,
     "metadata": {},
     "output_type": "execute_result"
    }
   ],
   "source": [
    "cat_ld"
   ]
  },
  {
   "cell_type": "code",
   "execution_count": 64,
   "metadata": {},
   "outputs": [
    {
     "data": {
      "image/png": "[encoded data removed]",
      "text/plain": [
       "<Figure size 432x288 with 1 Axes>"
      ]
     },
     "metadata": {
      "needs_background": "light"
     },
     "output_type": "display_data"
    }
   ],
   "source": [
    "\n",
    "n = len(cat_ld)\n",
    "likes = cat_ld.likes/1e6\n",
    "dislike = cat_ld.dislike/1e6\n",
    "\n",
    "fig, ax = plt.subplots()\n",
    "index = np.arange(n)\n",
    "bar_width = 0.35\n",
    "opacity = 0.8\n",
    "\n",
    "like1 = plt.bar(index, likes, bar_width,\n",
    "alpha=opacity,\n",
    "color='b',\n",
    "label='Likes')\n",
    "\n",
    "dilike1 = plt.bar(index + bar_width, dislike, bar_width,\n",
    "alpha=opacity,\n",
    "color='g',\n",
    "label='Dislikes')\n",
    "\n",
    "plt.xlabel('Category')\n",
    "plt.ylabel('Count (in million)')\n",
    "plt.title('Like/Dislike Count by Category')\n",
    "plt.xticks(index + bar_width, cat_ld.index)\n",
    "plt.legend()\n",
    "plt.tight_layout()\n",
    "plt.show();"
   ]
  },
  {
   "cell_type": "markdown",
   "metadata": {},
   "source": [
    "### Q3.List the top 15 video titles with highest comment count."
   ]
  },
  {
   "cell_type": "code",
   "execution_count": 65,
   "metadata": {},
   "outputs": [
    {
     "data": {
      "text/html": [
       "<div>\n",
       "<style scoped>\n",
       "    .dataframe tbody tr th:only-of-type {\n",
       "        vertical-align: middle;\n",
       "    }\n",
       "\n",
       "    .dataframe tbody tr th {\n",
       "        vertical-align: top;\n",
       "    }\n",
       "\n",
       "    .dataframe thead th {\n",
       "        text-align: right;\n",
       "    }\n",
       "</style>\n",
       "<table border=\"1\" class=\"dataframe\">\n",
       "  <thead>\n",
       "    <tr style=\"text-align: right;\">\n",
       "      <th></th>\n",
       "      <th>Video_id</th>\n",
       "      <th>category_id</th>\n",
       "      <th>channel_title</th>\n",
       "      <th>subscriber</th>\n",
       "      <th>title</th>\n",
       "      <th>tags</th>\n",
       "      <th>description</th>\n",
       "      <th>Trend_day_count</th>\n",
       "      <th>Tag_count</th>\n",
       "      <th>Trend_tag_count</th>\n",
       "      <th>comment_count</th>\n",
       "      <th>comment_disabled</th>\n",
       "      <th>like dislike disabled</th>\n",
       "      <th>likes</th>\n",
       "      <th>dislike</th>\n",
       "      <th>tag appered in title</th>\n",
       "      <th>views</th>\n",
       "    </tr>\n",
       "  </thead>\n",
       "  <tbody>\n",
       "    <tr>\n",
       "      <th>3071</th>\n",
       "      <td>XNQ50DCQ16</td>\n",
       "      <td>15</td>\n",
       "      <td>Brave Wilderness</td>\n",
       "      <td>9715867</td>\n",
       "      <td>ANIMALS BITE ME...a lot.</td>\n",
       "      <td>adventure|adventurous|animals|breaking|breakin...</td>\n",
       "      <td>Please SUBSCRIBE - http://bit.ly/BWchannel\\nTo...</td>\n",
       "      <td>9</td>\n",
       "      <td>8</td>\n",
       "      <td>3</td>\n",
       "      <td>299877</td>\n",
       "      <td>False</td>\n",
       "      <td>False</td>\n",
       "      <td>18630</td>\n",
       "      <td>10542</td>\n",
       "      <td>True</td>\n",
       "      <td>2731140</td>\n",
       "    </tr>\n",
       "    <tr>\n",
       "      <th>2881</th>\n",
       "      <td>UIR37QUa10</td>\n",
       "      <td>22</td>\n",
       "      <td>Dani Ochoa</td>\n",
       "      <td>40357</td>\n",
       "      <td>Thanks Internet! From Cantina Pencil Girl</td>\n",
       "      <td>pencil music</td>\n",
       "      <td>I know you just want pencil videos, but I had ...</td>\n",
       "      <td>8</td>\n",
       "      <td>9</td>\n",
       "      <td>3</td>\n",
       "      <td>299780</td>\n",
       "      <td>False</td>\n",
       "      <td>False</td>\n",
       "      <td>12033</td>\n",
       "      <td>2739</td>\n",
       "      <td>True</td>\n",
       "      <td>714609</td>\n",
       "    </tr>\n",
       "    <tr>\n",
       "      <th>2490</th>\n",
       "      <td>BPO68NS&gt;97</td>\n",
       "      <td>28</td>\n",
       "      <td>Vsauce2</td>\n",
       "      <td>3817045</td>\n",
       "      <td>Robot Muscle, Photovoltaic Roads, Milking Plat...</td>\n",
       "      <td>vsauce|vsauce2|vsause|vsause2</td>\n",
       "      <td>Brilliant: https://brilliant.org/vsauce2/\\n\\n*...</td>\n",
       "      <td>6</td>\n",
       "      <td>20</td>\n",
       "      <td>1</td>\n",
       "      <td>299672</td>\n",
       "      <td>False</td>\n",
       "      <td>True</td>\n",
       "      <td>0</td>\n",
       "      <td>0</td>\n",
       "      <td>True</td>\n",
       "      <td>1442022</td>\n",
       "    </tr>\n",
       "    <tr>\n",
       "      <th>1820</th>\n",
       "      <td>IIW65ZQm68</td>\n",
       "      <td>23</td>\n",
       "      <td>Miranda Sings</td>\n",
       "      <td>8648654</td>\n",
       "      <td>SURPRISE!!! I HAVE MY OWN PERFUME!</td>\n",
       "      <td>miranda|sings|mirandasings08|beautiful|lips|co...</td>\n",
       "      <td>Thanks for watching my videos. don't 4get to s...</td>\n",
       "      <td>11</td>\n",
       "      <td>24</td>\n",
       "      <td>5</td>\n",
       "      <td>299580</td>\n",
       "      <td>False</td>\n",
       "      <td>True</td>\n",
       "      <td>0</td>\n",
       "      <td>0</td>\n",
       "      <td>True</td>\n",
       "      <td>2580500</td>\n",
       "    </tr>\n",
       "    <tr>\n",
       "      <th>3009</th>\n",
       "      <td>HTW72GFe88</td>\n",
       "      <td>24</td>\n",
       "      <td>mmschocolate</td>\n",
       "      <td>129063</td>\n",
       "      <td>M&amp;M’s Super Bowl Teaser 2018 (featuring Danny ...</td>\n",
       "      <td>NaN</td>\n",
       "      <td>What’s it like to be a delicious milk chocolat...</td>\n",
       "      <td>3</td>\n",
       "      <td>14</td>\n",
       "      <td>2</td>\n",
       "      <td>299560</td>\n",
       "      <td>False</td>\n",
       "      <td>False</td>\n",
       "      <td>11114</td>\n",
       "      <td>4175</td>\n",
       "      <td>True</td>\n",
       "      <td>760517</td>\n",
       "    </tr>\n",
       "    <tr>\n",
       "      <th>1066</th>\n",
       "      <td>KVN23YEY14</td>\n",
       "      <td>22</td>\n",
       "      <td>Skelly Robot</td>\n",
       "      <td>53</td>\n",
       "      <td>Skelly the Skeleton Robot wishing you a Merry ...</td>\n",
       "      <td>Arduino|Visuino|QRS Piano Rolls|Ampico Piano R...</td>\n",
       "      <td>Skelly is a Halloween decoration changed to a ...</td>\n",
       "      <td>1</td>\n",
       "      <td>23</td>\n",
       "      <td>2</td>\n",
       "      <td>299495</td>\n",
       "      <td>False</td>\n",
       "      <td>False</td>\n",
       "      <td>8143</td>\n",
       "      <td>6680</td>\n",
       "      <td>False</td>\n",
       "      <td>716640</td>\n",
       "    </tr>\n",
       "    <tr>\n",
       "      <th>799</th>\n",
       "      <td>JQQ1LNh30</td>\n",
       "      <td>22</td>\n",
       "      <td>vlogbrothers</td>\n",
       "      <td>3111110</td>\n",
       "      <td>Let's Talk about Money</td>\n",
       "      <td>money|finance|youtube|vlogbrothers|economics|n...</td>\n",
       "      <td>In which John discusses what happens with the ...</td>\n",
       "      <td>10</td>\n",
       "      <td>19</td>\n",
       "      <td>4</td>\n",
       "      <td>299285</td>\n",
       "      <td>False</td>\n",
       "      <td>False</td>\n",
       "      <td>21065</td>\n",
       "      <td>12162</td>\n",
       "      <td>False</td>\n",
       "      <td>1463424</td>\n",
       "    </tr>\n",
       "    <tr>\n",
       "      <th>1273</th>\n",
       "      <td>CSO54RO=58</td>\n",
       "      <td>24</td>\n",
       "      <td>LIVEKellyandRyan</td>\n",
       "      <td>0</td>\n",
       "      <td>Madonna and Anderson Cooper Play Sketching wit...</td>\n",
       "      <td>kelly ripa|anderson cooper|live with kelly and...</td>\n",
       "      <td>Madonna teams up with Anderson Cooper to play ...</td>\n",
       "      <td>2</td>\n",
       "      <td>22</td>\n",
       "      <td>2</td>\n",
       "      <td>299210</td>\n",
       "      <td>False</td>\n",
       "      <td>False</td>\n",
       "      <td>17432</td>\n",
       "      <td>13050</td>\n",
       "      <td>True</td>\n",
       "      <td>734946</td>\n",
       "    </tr>\n",
       "    <tr>\n",
       "      <th>1813</th>\n",
       "      <td>BZN43URd19</td>\n",
       "      <td>23</td>\n",
       "      <td>Smosh</td>\n",
       "      <td>22919161</td>\n",
       "      <td>2016 vs 2017</td>\n",
       "      <td>smosh|2016 vs 2017|vs|smosh vs|anthony padilla...</td>\n",
       "      <td>In 2016 so much has changed, but there are als...</td>\n",
       "      <td>5</td>\n",
       "      <td>24</td>\n",
       "      <td>1</td>\n",
       "      <td>298825</td>\n",
       "      <td>False</td>\n",
       "      <td>False</td>\n",
       "      <td>17311</td>\n",
       "      <td>7773</td>\n",
       "      <td>True</td>\n",
       "      <td>5370540</td>\n",
       "    </tr>\n",
       "    <tr>\n",
       "      <th>150</th>\n",
       "      <td>FTC17JEl68</td>\n",
       "      <td>24</td>\n",
       "      <td>Wong Fu Productions</td>\n",
       "      <td>3063323</td>\n",
       "      <td>I Miss the Old Taylor</td>\n",
       "      <td>taylor swift|swiftie|reputation|ready for it|g...</td>\n",
       "      <td>A new Taylor Swift is upon us! Some people jus...</td>\n",
       "      <td>3</td>\n",
       "      <td>20</td>\n",
       "      <td>7</td>\n",
       "      <td>298802</td>\n",
       "      <td>False</td>\n",
       "      <td>False</td>\n",
       "      <td>12865</td>\n",
       "      <td>11407</td>\n",
       "      <td>True</td>\n",
       "      <td>1329418</td>\n",
       "    </tr>\n",
       "    <tr>\n",
       "      <th>1605</th>\n",
       "      <td>FZQ54UQ@69</td>\n",
       "      <td>24</td>\n",
       "      <td>WIRED</td>\n",
       "      <td>1866109</td>\n",
       "      <td>John Cena Answers the Web's Most Searched Ques...</td>\n",
       "      <td>john cena|john cena interview|john cena funny|...</td>\n",
       "      <td>Ferdinand star John Cena answers the Internet'...</td>\n",
       "      <td>12</td>\n",
       "      <td>15</td>\n",
       "      <td>6</td>\n",
       "      <td>298707</td>\n",
       "      <td>False</td>\n",
       "      <td>False</td>\n",
       "      <td>15228</td>\n",
       "      <td>9077</td>\n",
       "      <td>False</td>\n",
       "      <td>1371706</td>\n",
       "    </tr>\n",
       "    <tr>\n",
       "      <th>2242</th>\n",
       "      <td>LXF47ZE=2</td>\n",
       "      <td>10</td>\n",
       "      <td>1theK (원더케이)</td>\n",
       "      <td>9570130</td>\n",
       "      <td>[MV] MAMAMOO (마마무) _ Paint Me (칠해줘)</td>\n",
       "      <td>Kpop|1theK|원더케이|loen|로엔|뮤비|티져|MV|Teaser|신곡|new...</td>\n",
       "      <td>[MV] MAMAMOO (마마무) _ Paint Me (칠해줘)\\n\\n\\n*Engl...</td>\n",
       "      <td>11</td>\n",
       "      <td>21</td>\n",
       "      <td>1</td>\n",
       "      <td>298547</td>\n",
       "      <td>False</td>\n",
       "      <td>True</td>\n",
       "      <td>0</td>\n",
       "      <td>0</td>\n",
       "      <td>False</td>\n",
       "      <td>2716328</td>\n",
       "    </tr>\n",
       "    <tr>\n",
       "      <th>836</th>\n",
       "      <td>URI85YA&lt;26</td>\n",
       "      <td>10</td>\n",
       "      <td>legofreedom1</td>\n",
       "      <td>755</td>\n",
       "      <td>Melissa Benoist Sings Running Home To You | Cr...</td>\n",
       "      <td>Legofreedom1|crisis on earth x|arrow|the flash...</td>\n",
       "      <td>Melissa Benoist as Kara Zor- EL Supergirl sing...</td>\n",
       "      <td>5</td>\n",
       "      <td>17</td>\n",
       "      <td>6</td>\n",
       "      <td>298423</td>\n",
       "      <td>False</td>\n",
       "      <td>False</td>\n",
       "      <td>13324</td>\n",
       "      <td>9568</td>\n",
       "      <td>True</td>\n",
       "      <td>708007</td>\n",
       "    </tr>\n",
       "    <tr>\n",
       "      <th>2164</th>\n",
       "      <td>GWW20TTd13</td>\n",
       "      <td>26</td>\n",
       "      <td>The Scran Line</td>\n",
       "      <td>387825</td>\n",
       "      <td>PEANUT BUTTER JELLY CAKE! - The Scran Line</td>\n",
       "      <td>cupcakes|how to make vanilla cupcakes|over the...</td>\n",
       "      <td>Grab the RECIPE here: https://www.thescranline...</td>\n",
       "      <td>3</td>\n",
       "      <td>21</td>\n",
       "      <td>2</td>\n",
       "      <td>298406</td>\n",
       "      <td>False</td>\n",
       "      <td>False</td>\n",
       "      <td>12762</td>\n",
       "      <td>5994</td>\n",
       "      <td>True</td>\n",
       "      <td>823588</td>\n",
       "    </tr>\n",
       "    <tr>\n",
       "      <th>1766</th>\n",
       "      <td>LKS85DHJ46</td>\n",
       "      <td>22</td>\n",
       "      <td>CaseyNeistat</td>\n",
       "      <td>9086142</td>\n",
       "      <td>ABANDONED MALL TURNED INTO WINTER WONDERLAND</td>\n",
       "      <td>christmas|abandoned mall|milwaukee|samsung|cas...</td>\n",
       "      <td>Boys and Girls Clubs</td>\n",
       "      <td>12</td>\n",
       "      <td>12</td>\n",
       "      <td>3</td>\n",
       "      <td>298399</td>\n",
       "      <td>False</td>\n",
       "      <td>True</td>\n",
       "      <td>0</td>\n",
       "      <td>0</td>\n",
       "      <td>True</td>\n",
       "      <td>2720567</td>\n",
       "    </tr>\n",
       "  </tbody>\n",
       "</table>\n",
       "</div>"
      ],
      "text/plain": [
       "        Video_id  category_id        channel_title  subscriber  \\\n",
       "3071  XNQ50DCQ16           15     Brave Wilderness     9715867   \n",
       "2881  UIR37QUa10           22           Dani Ochoa       40357   \n",
       "2490  BPO68NS>97           28              Vsauce2     3817045   \n",
       "1820  IIW65ZQm68           23        Miranda Sings     8648654   \n",
       "3009  HTW72GFe88           24         mmschocolate      129063   \n",
       "1066  KVN23YEY14           22         Skelly Robot          53   \n",
       "799    JQQ1LNh30           22         vlogbrothers     3111110   \n",
       "1273  CSO54RO=58           24     LIVEKellyandRyan           0   \n",
       "1813  BZN43URd19           23                Smosh    22919161   \n",
       "150   FTC17JEl68           24  Wong Fu Productions     3063323   \n",
       "1605  FZQ54UQ@69           24                WIRED     1866109   \n",
       "2242   LXF47ZE=2           10         1theK (원더케이)     9570130   \n",
       "836   URI85YA<26           10         legofreedom1         755   \n",
       "2164  GWW20TTd13           26       The Scran Line      387825   \n",
       "1766  LKS85DHJ46           22         CaseyNeistat     9086142   \n",
       "\n",
       "                                                  title  \\\n",
       "3071                           ANIMALS BITE ME...a lot.   \n",
       "2881          Thanks Internet! From Cantina Pencil Girl   \n",
       "2490  Robot Muscle, Photovoltaic Roads, Milking Plat...   \n",
       "1820                 SURPRISE!!! I HAVE MY OWN PERFUME!   \n",
       "3009  M&M’s Super Bowl Teaser 2018 (featuring Danny ...   \n",
       "1066  Skelly the Skeleton Robot wishing you a Merry ...   \n",
       "799                              Let's Talk about Money   \n",
       "1273  Madonna and Anderson Cooper Play Sketching wit...   \n",
       "1813                                       2016 vs 2017   \n",
       "150                               I Miss the Old Taylor   \n",
       "1605  John Cena Answers the Web's Most Searched Ques...   \n",
       "2242                [MV] MAMAMOO (마마무) _ Paint Me (칠해줘)   \n",
       "836   Melissa Benoist Sings Running Home To You | Cr...   \n",
       "2164         PEANUT BUTTER JELLY CAKE! - The Scran Line   \n",
       "1766       ABANDONED MALL TURNED INTO WINTER WONDERLAND   \n",
       "\n",
       "                                                   tags  \\\n",
       "3071  adventure|adventurous|animals|breaking|breakin...   \n",
       "2881                                       pencil music   \n",
       "2490                      vsauce|vsauce2|vsause|vsause2   \n",
       "1820  miranda|sings|mirandasings08|beautiful|lips|co...   \n",
       "3009                                                NaN   \n",
       "1066  Arduino|Visuino|QRS Piano Rolls|Ampico Piano R...   \n",
       "799   money|finance|youtube|vlogbrothers|economics|n...   \n",
       "1273  kelly ripa|anderson cooper|live with kelly and...   \n",
       "1813  smosh|2016 vs 2017|vs|smosh vs|anthony padilla...   \n",
       "150   taylor swift|swiftie|reputation|ready for it|g...   \n",
       "1605  john cena|john cena interview|john cena funny|...   \n",
       "2242  Kpop|1theK|원더케이|loen|로엔|뮤비|티져|MV|Teaser|신곡|new...   \n",
       "836   Legofreedom1|crisis on earth x|arrow|the flash...   \n",
       "2164  cupcakes|how to make vanilla cupcakes|over the...   \n",
       "1766  christmas|abandoned mall|milwaukee|samsung|cas...   \n",
       "\n",
       "                                            description  Trend_day_count  \\\n",
       "3071  Please SUBSCRIBE - http://bit.ly/BWchannel\\nTo...                9   \n",
       "2881  I know you just want pencil videos, but I had ...                8   \n",
       "2490  Brilliant: https://brilliant.org/vsauce2/\\n\\n*...                6   \n",
       "1820  Thanks for watching my videos. don't 4get to s...               11   \n",
       "3009  What’s it like to be a delicious milk chocolat...                3   \n",
       "1066  Skelly is a Halloween decoration changed to a ...                1   \n",
       "799   In which John discusses what happens with the ...               10   \n",
       "1273  Madonna teams up with Anderson Cooper to play ...                2   \n",
       "1813  In 2016 so much has changed, but there are als...                5   \n",
       "150   A new Taylor Swift is upon us! Some people jus...                3   \n",
       "1605  Ferdinand star John Cena answers the Internet'...               12   \n",
       "2242  [MV] MAMAMOO (마마무) _ Paint Me (칠해줘)\\n\\n\\n*Engl...               11   \n",
       "836   Melissa Benoist as Kara Zor- EL Supergirl sing...                5   \n",
       "2164  Grab the RECIPE here: https://www.thescranline...                3   \n",
       "1766                               Boys and Girls Clubs               12   \n",
       "\n",
       "      Tag_count  Trend_tag_count  comment_count  comment_disabled  \\\n",
       "3071          8                3         299877             False   \n",
       "2881          9                3         299780             False   \n",
       "2490         20                1         299672             False   \n",
       "1820         24                5         299580             False   \n",
       "3009         14                2         299560             False   \n",
       "1066         23                2         299495             False   \n",
       "799          19                4         299285             False   \n",
       "1273         22                2         299210             False   \n",
       "1813         24                1         298825             False   \n",
       "150          20                7         298802             False   \n",
       "1605         15                6         298707             False   \n",
       "2242         21                1         298547             False   \n",
       "836          17                6         298423             False   \n",
       "2164         21                2         298406             False   \n",
       "1766         12                3         298399             False   \n",
       "\n",
       "      like dislike disabled  likes  dislike  tag appered in title    views  \n",
       "3071                  False  18630    10542                  True  2731140  \n",
       "2881                  False  12033     2739                  True   714609  \n",
       "2490                   True      0        0                  True  1442022  \n",
       "1820                   True      0        0                  True  2580500  \n",
       "3009                  False  11114     4175                  True   760517  \n",
       "1066                  False   8143     6680                 False   716640  \n",
       "799                   False  21065    12162                 False  1463424  \n",
       "1273                  False  17432    13050                  True   734946  \n",
       "1813                  False  17311     7773                  True  5370540  \n",
       "150                   False  12865    11407                  True  1329418  \n",
       "1605                  False  15228     9077                 False  1371706  \n",
       "2242                   True      0        0                 False  2716328  \n",
       "836                   False  13324     9568                  True   708007  \n",
       "2164                  False  12762     5994                  True   823588  \n",
       "1766                   True      0        0                  True  2720567  "
      ]
     },
     "execution_count": 65,
     "metadata": {},
     "output_type": "execute_result"
    }
   ],
   "source": [
    "highvid15=df.sort_values(by='comment_count',ascending=False).head(15)\n",
    "highvid15"
   ]
  },
  {
   "cell_type": "code",
   "execution_count": 66,
   "metadata": {},
   "outputs": [
    {
     "data": {
      "image/png": "[encoded data removed]",
      "text/plain": [
       "<Figure size 864x432 with 1 Axes>"
      ]
     },
     "metadata": {
      "needs_background": "light"
     },
     "output_type": "display_data"
    }
   ],
   "source": [
    "import warnings\n",
    "warnings.filterwarnings(\"ignore\", message=\"\")\n",
    "plt.figure(figsize=(12,6))\n",
    "plt.xlabel(\"Comment Count\")\n",
    "plt.ylabel(\"Video Title\")\n",
    "plt.title(\"List of top 15 videos with highest comment count.\")\n",
    "plt.plot(highvid15.comment_count,highvid15.title,\"r--D\");"
   ]
  },
  {
   "cell_type": "markdown",
   "metadata": {},
   "source": [
    "### Q4.What are the total views for each video category?"
   ]
  },
  {
   "cell_type": "code",
   "execution_count": 67,
   "metadata": {},
   "outputs": [],
   "source": [
    "cat_view=df.groupby('category_id')['views'].sum()"
   ]
  },
  {
   "cell_type": "code",
   "execution_count": 68,
   "metadata": {},
   "outputs": [
    {
     "data": {
      "text/plain": [
       "category_id\n",
       "0        7422527\n",
       "1     1113718878\n",
       "2       20176600\n",
       "10     489017898\n",
       "15      59400980\n",
       "17     272356097\n",
       "19      18021365\n",
       "20      34202559\n",
       "22     213963526\n",
       "23     467059490\n",
       "24    1608854185\n",
       "25     187475523\n",
       "26     277120356\n",
       "27     108944978\n",
       "28     141050284\n",
       "29       6152101\n",
       "43       1134271\n",
       "Name: views, dtype: int64"
      ]
     },
     "execution_count": 68,
     "metadata": {},
     "output_type": "execute_result"
    }
   ],
   "source": [
    "cat_view"
   ]
  },
  {
   "cell_type": "code",
   "execution_count": 69,
   "metadata": {},
   "outputs": [
    {
     "data": {
      "image/png": "[encoded data removed]",
      "text/plain": [
       "<Figure size 864x432 with 1 Axes>"
      ]
     },
     "metadata": {
      "needs_background": "light"
     },
     "output_type": "display_data"
    }
   ],
   "source": [
    "plt.figure(figsize=(12,6))\n",
    "plt.title(\"Total views for each video category\")\n",
    "sns.barplot(x=cat_view.index,y=cat_view/1e9).set(ylabel='views/1e9');"
   ]
  },
  {
   "cell_type": "markdown",
   "metadata": {},
   "source": [
    " ## Q5. List the 15 least viewed videos."
   ]
  },
  {
   "cell_type": "code",
   "execution_count": 70,
   "metadata": {},
   "outputs": [],
   "source": [
    "vidbot15=df.sort_values(by=\"views\",ascending=True).head(15)"
   ]
  },
  {
   "cell_type": "code",
   "execution_count": 71,
   "metadata": {},
   "outputs": [],
   "source": [
    "vidbot15.dropna(inplace=True)"
   ]
  },
  {
   "cell_type": "code",
   "execution_count": 72,
   "metadata": {},
   "outputs": [
    {
     "data": {
      "image/png": "[encoded data removed]",
      "text/plain": [
       "<Figure size 864x432 with 1 Axes>"
      ]
     },
     "metadata": {
      "needs_background": "light"
     },
     "output_type": "display_data"
    }
   ],
   "source": [
    "import warnings\n",
    "warnings.filterwarnings(\"ignore\")\n",
    "plt.figure(figsize=(12,6))\n",
    "plt.xlabel(\"Views\")\n",
    "plt.ylabel(\"Video Title\")\n",
    "plt.title(\"List of 15 least viewed videos.\")\n",
    "plt.plot(vidbot15.views,vidbot15.title,\"b--s\");"
   ]
  },
  {
   "cell_type": "markdown",
   "metadata": {},
   "source": [
    "### Conclusion \n",
    "#### We've drawn many inferences from the survey. Here's a summary of a few of them:"
   ]
  },
  {
   "cell_type": "markdown",
   "metadata": {},
   "source": [
    "#### 1.  Based on the our analysis, we can infer that about 770-780 videos lie in the category 24 , which is the highest of all the categories. Whereas category id's 0,29 and 43 have the lowest count of the videos.\n",
    "#### 2.The channel with title \"TMZ\" has the highest number of subscribers i.e approximately around 2 million.\n",
    "#### 3. From the data given it is visible that the video titled \"ANIMALS BITE ME...a lot.\" is the most commented video with 299877 comments.\n",
    "#### 4. It can be concluded that most of the videos remained in trending for 10 days.\n",
    "#### 5. Videos in the category 24 have the highest tag count while the categories like 0, 3222 and 3225 are having the lowest tag count. \n",
    "#### 6.From the comment disabled column , it can be infered that only 32% of the videos have their comments disabled and rest 68% have their comments enabled.\n",
    "#### 7. From the pie chart visualized above it is clear that about 74% youtubers keep like/dislike option enabled while the rest 36% keep it disabled."
   ]
  },
  {
   "cell_type": "code",
   "execution_count": null,
   "metadata": {},
   "outputs": [],
   "source": []
  }
 ],
 "metadata": {
  "kernelspec": {
   "display_name": "Python 3",
   "language": "python",
   "name": "python3"
  },
  "language_info": {
   "codemirror_mode": {
    "name": "ipython",
    "version": 3
   },
   "file_extension": ".py",
   "mimetype": "text/x-python",
   "name": "python",
   "nbconvert_exporter": "python",
   "pygments_lexer": "ipython3",
   "version": "3.8.3"
  }
 },
 "nbformat": 4,
 "nbformat_minor": 4
}
